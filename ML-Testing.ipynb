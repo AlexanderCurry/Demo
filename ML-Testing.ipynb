{
 "cells": [
  {
   "cell_type": "code",
   "execution_count": 9,
   "id": "initial_id",
   "metadata": {
    "collapsed": true,
    "ExecuteTime": {
     "end_time": "2024-03-11T16:43:09.667605Z",
     "start_time": "2024-03-11T16:43:09.653381Z"
    }
   },
   "outputs": [],
   "source": [
    "import pandas as pd\n",
    "import numpy as np\n",
    "from sklearn.model_selection import train_test_split\n",
    "import matplotlib.pyplot as plt \n",
    "import seaborn as sns\n",
    "import folium\n"
   ]
  },
  {
   "cell_type": "markdown",
   "source": [
    "what do I want to do? shall I investigate the compositions of the ETFs I am invested in, find out what my exposure is to countries and companies, look at the major countries I am invested in"
   ],
   "metadata": {
    "collapsed": false
   },
   "id": "59f1ae00bd7e34fb"
  },
  {
   "cell_type": "code",
   "outputs": [
    {
     "data": {
      "text/plain": "Empty DataFrame\nColumns: [year, state, state_po, state_fips, state_cen, state_ic, office, candidate, party_detailed, writein, candidatevotes, totalvotes, version, notes, party_simplified]\nIndex: []",
      "text/html": "<div>\n<style scoped>\n    .dataframe tbody tr th:only-of-type {\n        vertical-align: middle;\n    }\n\n    .dataframe tbody tr th {\n        vertical-align: top;\n    }\n\n    .dataframe thead th {\n        text-align: right;\n    }\n</style>\n<table border=\"1\" class=\"dataframe\">\n  <thead>\n    <tr style=\"text-align: right;\">\n      <th></th>\n      <th>year</th>\n      <th>state</th>\n      <th>state_po</th>\n      <th>state_fips</th>\n      <th>state_cen</th>\n      <th>state_ic</th>\n      <th>office</th>\n      <th>candidate</th>\n      <th>party_detailed</th>\n      <th>writein</th>\n      <th>candidatevotes</th>\n      <th>totalvotes</th>\n      <th>version</th>\n      <th>notes</th>\n      <th>party_simplified</th>\n    </tr>\n  </thead>\n  <tbody>\n  </tbody>\n</table>\n</div>"
     },
     "execution_count": 10,
     "metadata": {},
     "output_type": "execute_result"
    }
   ],
   "source": [
    "df = pd.read_csv(\"/Users/alexcurry/Downloads/1976-2020-president.csv\")\n",
    "df.dropna()"
   ],
   "metadata": {
    "collapsed": false,
    "ExecuteTime": {
     "end_time": "2024-03-11T16:43:09.799654Z",
     "start_time": "2024-03-11T16:43:09.761113Z"
    }
   },
   "id": "1550a6fd310b5b11",
   "execution_count": 10
  },
  {
   "cell_type": "code",
   "outputs": [
    {
     "data": {
      "text/plain": "   year    state state_po  state_fips  state_cen  state_ic        office  \\\n0  1976  ALABAMA       AL           1         63        41  US PRESIDENT   \n1  1976  ALABAMA       AL           1         63        41  US PRESIDENT   \n2  1976  ALABAMA       AL           1         63        41  US PRESIDENT   \n3  1976  ALABAMA       AL           1         63        41  US PRESIDENT   \n4  1976  ALABAMA       AL           1         63        41  US PRESIDENT   \n\n                 candidate              party_detailed writein  \\\n0            CARTER, JIMMY                    DEMOCRAT   False   \n1             FORD, GERALD                  REPUBLICAN   False   \n2           MADDOX, LESTER  AMERICAN INDEPENDENT PARTY   False   \n3  BUBAR, BENJAMIN \"\"BEN\"\"                 PROHIBITION   False   \n4                HALL, GUS         COMMUNIST PARTY USE   False   \n\n   candidatevotes  totalvotes   version  notes party_simplified  \n0          659170     1182850  20210113    NaN         DEMOCRAT  \n1          504070     1182850  20210113    NaN       REPUBLICAN  \n2            9198     1182850  20210113    NaN            OTHER  \n3            6669     1182850  20210113    NaN            OTHER  \n4            1954     1182850  20210113    NaN            OTHER  ",
      "text/html": "<div>\n<style scoped>\n    .dataframe tbody tr th:only-of-type {\n        vertical-align: middle;\n    }\n\n    .dataframe tbody tr th {\n        vertical-align: top;\n    }\n\n    .dataframe thead th {\n        text-align: right;\n    }\n</style>\n<table border=\"1\" class=\"dataframe\">\n  <thead>\n    <tr style=\"text-align: right;\">\n      <th></th>\n      <th>year</th>\n      <th>state</th>\n      <th>state_po</th>\n      <th>state_fips</th>\n      <th>state_cen</th>\n      <th>state_ic</th>\n      <th>office</th>\n      <th>candidate</th>\n      <th>party_detailed</th>\n      <th>writein</th>\n      <th>candidatevotes</th>\n      <th>totalvotes</th>\n      <th>version</th>\n      <th>notes</th>\n      <th>party_simplified</th>\n    </tr>\n  </thead>\n  <tbody>\n    <tr>\n      <th>0</th>\n      <td>1976</td>\n      <td>ALABAMA</td>\n      <td>AL</td>\n      <td>1</td>\n      <td>63</td>\n      <td>41</td>\n      <td>US PRESIDENT</td>\n      <td>CARTER, JIMMY</td>\n      <td>DEMOCRAT</td>\n      <td>False</td>\n      <td>659170</td>\n      <td>1182850</td>\n      <td>20210113</td>\n      <td>NaN</td>\n      <td>DEMOCRAT</td>\n    </tr>\n    <tr>\n      <th>1</th>\n      <td>1976</td>\n      <td>ALABAMA</td>\n      <td>AL</td>\n      <td>1</td>\n      <td>63</td>\n      <td>41</td>\n      <td>US PRESIDENT</td>\n      <td>FORD, GERALD</td>\n      <td>REPUBLICAN</td>\n      <td>False</td>\n      <td>504070</td>\n      <td>1182850</td>\n      <td>20210113</td>\n      <td>NaN</td>\n      <td>REPUBLICAN</td>\n    </tr>\n    <tr>\n      <th>2</th>\n      <td>1976</td>\n      <td>ALABAMA</td>\n      <td>AL</td>\n      <td>1</td>\n      <td>63</td>\n      <td>41</td>\n      <td>US PRESIDENT</td>\n      <td>MADDOX, LESTER</td>\n      <td>AMERICAN INDEPENDENT PARTY</td>\n      <td>False</td>\n      <td>9198</td>\n      <td>1182850</td>\n      <td>20210113</td>\n      <td>NaN</td>\n      <td>OTHER</td>\n    </tr>\n    <tr>\n      <th>3</th>\n      <td>1976</td>\n      <td>ALABAMA</td>\n      <td>AL</td>\n      <td>1</td>\n      <td>63</td>\n      <td>41</td>\n      <td>US PRESIDENT</td>\n      <td>BUBAR, BENJAMIN \"\"BEN\"\"</td>\n      <td>PROHIBITION</td>\n      <td>False</td>\n      <td>6669</td>\n      <td>1182850</td>\n      <td>20210113</td>\n      <td>NaN</td>\n      <td>OTHER</td>\n    </tr>\n    <tr>\n      <th>4</th>\n      <td>1976</td>\n      <td>ALABAMA</td>\n      <td>AL</td>\n      <td>1</td>\n      <td>63</td>\n      <td>41</td>\n      <td>US PRESIDENT</td>\n      <td>HALL, GUS</td>\n      <td>COMMUNIST PARTY USE</td>\n      <td>False</td>\n      <td>1954</td>\n      <td>1182850</td>\n      <td>20210113</td>\n      <td>NaN</td>\n      <td>OTHER</td>\n    </tr>\n  </tbody>\n</table>\n</div>"
     },
     "execution_count": 11,
     "metadata": {},
     "output_type": "execute_result"
    }
   ],
   "source": [
    "df.head()"
   ],
   "metadata": {
    "collapsed": false,
    "ExecuteTime": {
     "end_time": "2024-03-11T16:43:10.078158Z",
     "start_time": "2024-03-11T16:43:10.075334Z"
    }
   },
   "id": "27e7ddc68525e32b",
   "execution_count": 11
  },
  {
   "cell_type": "code",
   "outputs": [],
   "source": [
    "map = folium.Map(location=[39.8283,-98.57],zoom_start=5) "
   ],
   "metadata": {
    "collapsed": false,
    "ExecuteTime": {
     "end_time": "2024-03-11T16:43:10.082329Z",
     "start_time": "2024-03-11T16:43:10.078521Z"
    }
   },
   "id": "bdbb299a8e03a356",
   "execution_count": 12
  },
  {
   "cell_type": "code",
   "outputs": [
    {
     "data": {
      "text/plain": "50.0"
     },
     "execution_count": 4,
     "metadata": {},
     "output_type": "execute_result"
    }
   ],
   "source": [
    "10000/200"
   ],
   "metadata": {
    "collapsed": false,
    "ExecuteTime": {
     "end_time": "2024-04-15T07:15:39.964980Z",
     "start_time": "2024-04-15T07:15:39.960504Z"
    }
   },
   "id": "87e49e712522b217",
   "execution_count": 4
  },
  {
   "cell_type": "code",
   "outputs": [
    {
     "data": {
      "text/plain": "600"
     },
     "execution_count": 5,
     "metadata": {},
     "output_type": "execute_result"
    }
   ],
   "source": [
    "50*12"
   ],
   "metadata": {
    "collapsed": false,
    "ExecuteTime": {
     "end_time": "2024-04-15T07:22:27.368121Z",
     "start_time": "2024-04-15T07:22:27.360291Z"
    }
   },
   "id": "4b7480612d4741e2",
   "execution_count": 5
  },
  {
   "cell_type": "code",
   "outputs": [],
   "source": [],
   "metadata": {
    "collapsed": false
   },
   "id": "314708ec01caeedf"
  },
  {
   "cell_type": "code",
   "outputs": [
    {
     "name": "stdout",
     "output_type": "stream",
     "text": [
      "Hello, Annie\n"
     ]
    }
   ],
   "source": [
    "print(\"Hello, Annie\")"
   ],
   "metadata": {
    "collapsed": false,
    "ExecuteTime": {
     "end_time": "2024-04-11T10:48:34.008328Z",
     "start_time": "2024-04-11T10:48:34.002995Z"
    }
   },
   "id": "806415dbbbc212ff",
   "execution_count": 2
  },
  {
   "cell_type": "code",
   "outputs": [
    {
     "ename": "TypeError",
     "evalue": "__init__() missing 1 required positional argument: 'geo_data'",
     "output_type": "error",
     "traceback": [
      "\u001B[0;31m---------------------------------------------------------------------------\u001B[0m",
      "\u001B[0;31mTypeError\u001B[0m                                 Traceback (most recent call last)",
      "Cell \u001B[0;32mIn[6], line 1\u001B[0m\n\u001B[0;32m----> 1\u001B[0m \u001B[43mfolium\u001B[49m\u001B[38;5;241;43m.\u001B[39;49m\u001B[43mChoropleth\u001B[49m\u001B[43m(\u001B[49m\n\u001B[1;32m      2\u001B[0m \u001B[43m    \u001B[49m\n\u001B[1;32m      3\u001B[0m \u001B[43m)\u001B[49m\n",
      "\u001B[0;31mTypeError\u001B[0m: __init__() missing 1 required positional argument: 'geo_data'"
     ]
    }
   ],
   "source": [
    "folium.Choropleth(\n",
    "    \n",
    ")"
   ],
   "metadata": {
    "collapsed": false,
    "ExecuteTime": {
     "end_time": "2024-02-23T11:32:36.069102Z",
     "start_time": "2024-02-23T11:32:35.778004Z"
    }
   },
   "id": "ac4a52bb8811fe03",
   "execution_count": 6
  }
 ],
 "metadata": {
  "kernelspec": {
   "display_name": "Python 3",
   "language": "python",
   "name": "python3"
  },
  "language_info": {
   "codemirror_mode": {
    "name": "ipython",
    "version": 2
   },
   "file_extension": ".py",
   "mimetype": "text/x-python",
   "name": "python",
   "nbconvert_exporter": "python",
   "pygments_lexer": "ipython2",
   "version": "2.7.6"
  }
 },
 "nbformat": 4,
 "nbformat_minor": 5
}
