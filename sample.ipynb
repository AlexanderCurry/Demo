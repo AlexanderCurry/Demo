{
 "cells": [
  {
   "cell_type": "code",
   "outputs": [],
   "source": [
    "import pandas as pd\n",
    "import numpy as np\n",
    "import matplotlib.pyplot as plt\n",
    "import seaborn as sns\n",
    "\n"
   ],
   "metadata": {
    "collapsed": false,
    "ExecuteTime": {
     "end_time": "2023-12-30T07:06:45.171746Z",
     "start_time": "2023-12-30T07:06:45.167753Z"
    }
   },
   "id": "875b0ad1b9345837",
   "execution_count": 20
  },
  {
   "cell_type": "code",
   "outputs": [
    {
     "data": {
      "text/plain": "   Unnamed: 0                    item servesize calories  protien  totalfat  \\\n0           0         McVeggie Burger      168       402    10.24     13.83   \n1           1     McAloo Tikki Burger      146       339     8.50     11.31   \n2           2  McSpicy Paneer Burger      199       652    20.29     39.45   \n3           3       Spicy Paneer Wrap      250       674    20.96     39.10   \n4           4     American Veg Burger      177       512    15.30     23.45   \n\n   satfat  transfat  cholestrol  carbs  sugar  addedsugar   sodium     menu  \n0    5.34      0.16        2.49  56.54   7.90        4.49   706.13  regular  \n1    4.27      0.20        1.47   5.27   7.05        4.07   545.34  regular  \n2   17.12      0.18       21.85  52.33   8.35        5.27  1074.58  regular  \n3   19.73      0.26       40.93  59.27   3.50        1.08  1087.46  regular  \n4   10.51      0.17       25.24  56.96   7.85        4.76  1051.24  regular  ",
      "text/html": "<div>\n<style scoped>\n    .dataframe tbody tr th:only-of-type {\n        vertical-align: middle;\n    }\n\n    .dataframe tbody tr th {\n        vertical-align: top;\n    }\n\n    .dataframe thead th {\n        text-align: right;\n    }\n</style>\n<table border=\"1\" class=\"dataframe\">\n  <thead>\n    <tr style=\"text-align: right;\">\n      <th></th>\n      <th>Unnamed: 0</th>\n      <th>item</th>\n      <th>servesize</th>\n      <th>calories</th>\n      <th>protien</th>\n      <th>totalfat</th>\n      <th>satfat</th>\n      <th>transfat</th>\n      <th>cholestrol</th>\n      <th>carbs</th>\n      <th>sugar</th>\n      <th>addedsugar</th>\n      <th>sodium</th>\n      <th>menu</th>\n    </tr>\n  </thead>\n  <tbody>\n    <tr>\n      <th>0</th>\n      <td>0</td>\n      <td>McVeggie Burger</td>\n      <td>168</td>\n      <td>402</td>\n      <td>10.24</td>\n      <td>13.83</td>\n      <td>5.34</td>\n      <td>0.16</td>\n      <td>2.49</td>\n      <td>56.54</td>\n      <td>7.90</td>\n      <td>4.49</td>\n      <td>706.13</td>\n      <td>regular</td>\n    </tr>\n    <tr>\n      <th>1</th>\n      <td>1</td>\n      <td>McAloo Tikki Burger</td>\n      <td>146</td>\n      <td>339</td>\n      <td>8.50</td>\n      <td>11.31</td>\n      <td>4.27</td>\n      <td>0.20</td>\n      <td>1.47</td>\n      <td>5.27</td>\n      <td>7.05</td>\n      <td>4.07</td>\n      <td>545.34</td>\n      <td>regular</td>\n    </tr>\n    <tr>\n      <th>2</th>\n      <td>2</td>\n      <td>McSpicy Paneer Burger</td>\n      <td>199</td>\n      <td>652</td>\n      <td>20.29</td>\n      <td>39.45</td>\n      <td>17.12</td>\n      <td>0.18</td>\n      <td>21.85</td>\n      <td>52.33</td>\n      <td>8.35</td>\n      <td>5.27</td>\n      <td>1074.58</td>\n      <td>regular</td>\n    </tr>\n    <tr>\n      <th>3</th>\n      <td>3</td>\n      <td>Spicy Paneer Wrap</td>\n      <td>250</td>\n      <td>674</td>\n      <td>20.96</td>\n      <td>39.10</td>\n      <td>19.73</td>\n      <td>0.26</td>\n      <td>40.93</td>\n      <td>59.27</td>\n      <td>3.50</td>\n      <td>1.08</td>\n      <td>1087.46</td>\n      <td>regular</td>\n    </tr>\n    <tr>\n      <th>4</th>\n      <td>4</td>\n      <td>American Veg Burger</td>\n      <td>177</td>\n      <td>512</td>\n      <td>15.30</td>\n      <td>23.45</td>\n      <td>10.51</td>\n      <td>0.17</td>\n      <td>25.24</td>\n      <td>56.96</td>\n      <td>7.85</td>\n      <td>4.76</td>\n      <td>1051.24</td>\n      <td>regular</td>\n    </tr>\n  </tbody>\n</table>\n</div>"
     },
     "execution_count": 21,
     "metadata": {},
     "output_type": "execute_result"
    }
   ],
   "source": [
    "df = pd.read_csv(\"/Users/alexcurry/Downloads/mcdonaldata.csv\")\n",
    "df.head()"
   ],
   "metadata": {
    "collapsed": false,
    "ExecuteTime": {
     "end_time": "2023-12-30T07:06:51.310057Z",
     "start_time": "2023-12-30T07:06:51.236479Z"
    }
   },
   "id": "18e6ba81fdd0cfd2",
   "execution_count": 21
  },
  {
   "cell_type": "code",
   "outputs": [
    {
     "data": {
      "text/plain": "       Unnamed: 0     protien    totalfat      satfat    transfat  cholestrol  \\\ncount  141.000000  141.000000  141.000000  141.000000  141.000000  141.000000   \nmean    70.000000    7.493333   10.060355    5.000099    1.108865   26.321128   \nstd     40.847277    8.336949   10.435455    4.898097    7.319814   50.348006   \nmin      0.000000    0.000000    0.000000    0.000000    0.000000    0.000000   \n25%     35.000000    0.650000    0.460000    0.330000    0.070000    1.470000   \n50%     70.000000    4.790000    7.770000    4.270000    0.150000    8.390000   \n75%    105.000000   10.880000   14.160000    7.280000    0.250000   31.110000   \nmax    140.000000   39.470000   45.180000   20.460000   75.260000  302.610000   \n\n            carbs       sugar  addedsugar       sodium  \ncount  141.000000  141.000000  141.000000   141.000000  \nmean    30.770851   15.409504   10.336950   362.918809  \nstd     20.664969   15.674007   14.283388   477.792553  \nmin      0.000000    0.000000    0.000000     0.000000  \n25%     15.630000    2.280000    0.000000    41.990000  \n50%     29.880000    9.160000    3.640000   150.900000  \n75%     45.390000   26.950000   19.230000   530.540000  \nmax     93.840000   64.220000   64.220000  2399.490000  ",
      "text/html": "<div>\n<style scoped>\n    .dataframe tbody tr th:only-of-type {\n        vertical-align: middle;\n    }\n\n    .dataframe tbody tr th {\n        vertical-align: top;\n    }\n\n    .dataframe thead th {\n        text-align: right;\n    }\n</style>\n<table border=\"1\" class=\"dataframe\">\n  <thead>\n    <tr style=\"text-align: right;\">\n      <th></th>\n      <th>Unnamed: 0</th>\n      <th>protien</th>\n      <th>totalfat</th>\n      <th>satfat</th>\n      <th>transfat</th>\n      <th>cholestrol</th>\n      <th>carbs</th>\n      <th>sugar</th>\n      <th>addedsugar</th>\n      <th>sodium</th>\n    </tr>\n  </thead>\n  <tbody>\n    <tr>\n      <th>count</th>\n      <td>141.000000</td>\n      <td>141.000000</td>\n      <td>141.000000</td>\n      <td>141.000000</td>\n      <td>141.000000</td>\n      <td>141.000000</td>\n      <td>141.000000</td>\n      <td>141.000000</td>\n      <td>141.000000</td>\n      <td>141.000000</td>\n    </tr>\n    <tr>\n      <th>mean</th>\n      <td>70.000000</td>\n      <td>7.493333</td>\n      <td>10.060355</td>\n      <td>5.000099</td>\n      <td>1.108865</td>\n      <td>26.321128</td>\n      <td>30.770851</td>\n      <td>15.409504</td>\n      <td>10.336950</td>\n      <td>362.918809</td>\n    </tr>\n    <tr>\n      <th>std</th>\n      <td>40.847277</td>\n      <td>8.336949</td>\n      <td>10.435455</td>\n      <td>4.898097</td>\n      <td>7.319814</td>\n      <td>50.348006</td>\n      <td>20.664969</td>\n      <td>15.674007</td>\n      <td>14.283388</td>\n      <td>477.792553</td>\n    </tr>\n    <tr>\n      <th>min</th>\n      <td>0.000000</td>\n      <td>0.000000</td>\n      <td>0.000000</td>\n      <td>0.000000</td>\n      <td>0.000000</td>\n      <td>0.000000</td>\n      <td>0.000000</td>\n      <td>0.000000</td>\n      <td>0.000000</td>\n      <td>0.000000</td>\n    </tr>\n    <tr>\n      <th>25%</th>\n      <td>35.000000</td>\n      <td>0.650000</td>\n      <td>0.460000</td>\n      <td>0.330000</td>\n      <td>0.070000</td>\n      <td>1.470000</td>\n      <td>15.630000</td>\n      <td>2.280000</td>\n      <td>0.000000</td>\n      <td>41.990000</td>\n    </tr>\n    <tr>\n      <th>50%</th>\n      <td>70.000000</td>\n      <td>4.790000</td>\n      <td>7.770000</td>\n      <td>4.270000</td>\n      <td>0.150000</td>\n      <td>8.390000</td>\n      <td>29.880000</td>\n      <td>9.160000</td>\n      <td>3.640000</td>\n      <td>150.900000</td>\n    </tr>\n    <tr>\n      <th>75%</th>\n      <td>105.000000</td>\n      <td>10.880000</td>\n      <td>14.160000</td>\n      <td>7.280000</td>\n      <td>0.250000</td>\n      <td>31.110000</td>\n      <td>45.390000</td>\n      <td>26.950000</td>\n      <td>19.230000</td>\n      <td>530.540000</td>\n    </tr>\n    <tr>\n      <th>max</th>\n      <td>140.000000</td>\n      <td>39.470000</td>\n      <td>45.180000</td>\n      <td>20.460000</td>\n      <td>75.260000</td>\n      <td>302.610000</td>\n      <td>93.840000</td>\n      <td>64.220000</td>\n      <td>64.220000</td>\n      <td>2399.490000</td>\n    </tr>\n  </tbody>\n</table>\n</div>"
     },
     "execution_count": 22,
     "metadata": {},
     "output_type": "execute_result"
    }
   ],
   "source": [
    "df.describe()"
   ],
   "metadata": {
    "collapsed": false,
    "ExecuteTime": {
     "end_time": "2023-12-30T07:12:38.269972Z",
     "start_time": "2023-12-30T07:12:38.241046Z"
    }
   },
   "id": "26b63068574ce3ae",
   "execution_count": 22
  },
  {
   "cell_type": "code",
   "outputs": [],
   "source": [],
   "metadata": {
    "collapsed": false
   },
   "id": "7d87439252a8b641"
  },
  {
   "cell_type": "code",
   "outputs": [],
   "source": [],
   "metadata": {
    "collapsed": false
   },
   "id": "c87a4ce08deab268"
  }
 ],
 "metadata": {
  "kernelspec": {
   "display_name": "Python 3",
   "language": "python",
   "name": "python3"
  },
  "language_info": {
   "codemirror_mode": {
    "name": "ipython",
    "version": 2
   },
   "file_extension": ".py",
   "mimetype": "text/x-python",
   "name": "python",
   "nbconvert_exporter": "python",
   "pygments_lexer": "ipython2",
   "version": "2.7.6"
  }
 },
 "nbformat": 4,
 "nbformat_minor": 5
}
