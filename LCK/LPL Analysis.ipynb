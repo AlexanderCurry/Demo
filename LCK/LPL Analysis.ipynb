{
 "cells": [
  {
   "cell_type": "code",
   "execution_count": 4,
   "id": "initial_id",
   "metadata": {
    "collapsed": true,
    "ExecuteTime": {
     "end_time": "2024-05-06T19:19:10.655196Z",
     "start_time": "2024-05-06T19:19:10.654773Z"
    }
   },
   "outputs": [],
   "source": [
    "import pandas as pd\n",
    "import numpy as np\n",
    "import matplotlib.pyplot as plt\n",
    "import seaborn as sns\n",
    "from sklearn.model_selection import train_test_split"
   ]
  },
  {
   "cell_type": "code",
   "outputs": [
    {
     "data": {
      "text/plain": "     Player               Team      Pos  GP   W% CTR%   K   D    A  KDA  ...  \\\n0       369        Top Esports      Top  16  56%  63%  46  39   83  3.3  ...   \n1      Able          Oh My God      ADC   4  25%  25%  10   5   15  5.0  ...   \n2       Ahn    Invictus Gaming      ADC   5  40%  80%  20  14   14  2.4  ...   \n3       Aki  Ninjas in Pyjamas   Jungle  18  50%  44%  38  41  119  3.8  ...   \n4     Angel          Oh My God   Middle   4  25%  50%  10  10   12  2.2  ...   \n..      ...                ...      ...  ..  ...  ...  ..  ..  ...  ...  ...   \n146  Trymbi      Team Heretics  Support   8  38%  88%   3  24   58  2.5  ...   \n147  Vetheo      Team Vitality   Middle  12  50%  33%  61  43   88  3.5  ...   \n148  Wunder      Team Heretics      Top   8  38%  50%  18  19   33  2.7  ...   \n149    Yike         G2 Esports   Jungle  12  83%  25%  40  37  131  4.6  ...   \n150  Zwyroo      Team Heretics   Middle   8  38%  13%  30  13   32  4.8  ...   \n\n    CS%P15  DPM   DMG%  D%P15  EGPM  GOLD%  STL   WPM  CWPM  WCPM  \n0      NaN  598  22.7%    NaN   262  21.9%  NaN  0.33  0.20  0.19  \n1      NaN  644  25.6%    NaN   313  28.5%  NaN  0.50  0.06  0.70  \n2      NaN  551  25.4%    NaN   326  29.2%  NaN  0.39  0.07  0.39  \n3      NaN  294  11.8%    NaN   200  17.0%  NaN  0.43  0.29  0.41  \n4      NaN  674  27.9%    NaN   244  22.7%  NaN  0.51  0.28  0.16  \n..     ...  ...    ...    ...   ...    ...  ...   ...   ...   ...  \n146   2.5%  118   6.2%   5.7%   101   9.2%  0.0  1.82  0.25  0.45  \n147  29.6%  684  22.9%  22.4%   306  24.7%  0.0  0.52  0.23  0.37  \n148  22.8%  514  26.0%  23.4%   253  22.8%  0.0  0.49  0.12  0.15  \n149  14.2%  345  13.2%  12.2%   229  17.7%  3.0  0.34  0.25  0.30  \n150  31.0%  592  30.6%  32.5%   299  27.2%  0.0  0.55  0.16  0.35  \n\n[151 rows x 28 columns]",
      "text/html": "<div>\n<style scoped>\n    .dataframe tbody tr th:only-of-type {\n        vertical-align: middle;\n    }\n\n    .dataframe tbody tr th {\n        vertical-align: top;\n    }\n\n    .dataframe thead th {\n        text-align: right;\n    }\n</style>\n<table border=\"1\" class=\"dataframe\">\n  <thead>\n    <tr style=\"text-align: right;\">\n      <th></th>\n      <th>Player</th>\n      <th>Team</th>\n      <th>Pos</th>\n      <th>GP</th>\n      <th>W%</th>\n      <th>CTR%</th>\n      <th>K</th>\n      <th>D</th>\n      <th>A</th>\n      <th>KDA</th>\n      <th>...</th>\n      <th>CS%P15</th>\n      <th>DPM</th>\n      <th>DMG%</th>\n      <th>D%P15</th>\n      <th>EGPM</th>\n      <th>GOLD%</th>\n      <th>STL</th>\n      <th>WPM</th>\n      <th>CWPM</th>\n      <th>WCPM</th>\n    </tr>\n  </thead>\n  <tbody>\n    <tr>\n      <th>0</th>\n      <td>369</td>\n      <td>Top Esports</td>\n      <td>Top</td>\n      <td>16</td>\n      <td>56%</td>\n      <td>63%</td>\n      <td>46</td>\n      <td>39</td>\n      <td>83</td>\n      <td>3.3</td>\n      <td>...</td>\n      <td>NaN</td>\n      <td>598</td>\n      <td>22.7%</td>\n      <td>NaN</td>\n      <td>262</td>\n      <td>21.9%</td>\n      <td>NaN</td>\n      <td>0.33</td>\n      <td>0.20</td>\n      <td>0.19</td>\n    </tr>\n    <tr>\n      <th>1</th>\n      <td>Able</td>\n      <td>Oh My God</td>\n      <td>ADC</td>\n      <td>4</td>\n      <td>25%</td>\n      <td>25%</td>\n      <td>10</td>\n      <td>5</td>\n      <td>15</td>\n      <td>5.0</td>\n      <td>...</td>\n      <td>NaN</td>\n      <td>644</td>\n      <td>25.6%</td>\n      <td>NaN</td>\n      <td>313</td>\n      <td>28.5%</td>\n      <td>NaN</td>\n      <td>0.50</td>\n      <td>0.06</td>\n      <td>0.70</td>\n    </tr>\n    <tr>\n      <th>2</th>\n      <td>Ahn</td>\n      <td>Invictus Gaming</td>\n      <td>ADC</td>\n      <td>5</td>\n      <td>40%</td>\n      <td>80%</td>\n      <td>20</td>\n      <td>14</td>\n      <td>14</td>\n      <td>2.4</td>\n      <td>...</td>\n      <td>NaN</td>\n      <td>551</td>\n      <td>25.4%</td>\n      <td>NaN</td>\n      <td>326</td>\n      <td>29.2%</td>\n      <td>NaN</td>\n      <td>0.39</td>\n      <td>0.07</td>\n      <td>0.39</td>\n    </tr>\n    <tr>\n      <th>3</th>\n      <td>Aki</td>\n      <td>Ninjas in Pyjamas</td>\n      <td>Jungle</td>\n      <td>18</td>\n      <td>50%</td>\n      <td>44%</td>\n      <td>38</td>\n      <td>41</td>\n      <td>119</td>\n      <td>3.8</td>\n      <td>...</td>\n      <td>NaN</td>\n      <td>294</td>\n      <td>11.8%</td>\n      <td>NaN</td>\n      <td>200</td>\n      <td>17.0%</td>\n      <td>NaN</td>\n      <td>0.43</td>\n      <td>0.29</td>\n      <td>0.41</td>\n    </tr>\n    <tr>\n      <th>4</th>\n      <td>Angel</td>\n      <td>Oh My God</td>\n      <td>Middle</td>\n      <td>4</td>\n      <td>25%</td>\n      <td>50%</td>\n      <td>10</td>\n      <td>10</td>\n      <td>12</td>\n      <td>2.2</td>\n      <td>...</td>\n      <td>NaN</td>\n      <td>674</td>\n      <td>27.9%</td>\n      <td>NaN</td>\n      <td>244</td>\n      <td>22.7%</td>\n      <td>NaN</td>\n      <td>0.51</td>\n      <td>0.28</td>\n      <td>0.16</td>\n    </tr>\n    <tr>\n      <th>...</th>\n      <td>...</td>\n      <td>...</td>\n      <td>...</td>\n      <td>...</td>\n      <td>...</td>\n      <td>...</td>\n      <td>...</td>\n      <td>...</td>\n      <td>...</td>\n      <td>...</td>\n      <td>...</td>\n      <td>...</td>\n      <td>...</td>\n      <td>...</td>\n      <td>...</td>\n      <td>...</td>\n      <td>...</td>\n      <td>...</td>\n      <td>...</td>\n      <td>...</td>\n      <td>...</td>\n    </tr>\n    <tr>\n      <th>146</th>\n      <td>Trymbi</td>\n      <td>Team Heretics</td>\n      <td>Support</td>\n      <td>8</td>\n      <td>38%</td>\n      <td>88%</td>\n      <td>3</td>\n      <td>24</td>\n      <td>58</td>\n      <td>2.5</td>\n      <td>...</td>\n      <td>2.5%</td>\n      <td>118</td>\n      <td>6.2%</td>\n      <td>5.7%</td>\n      <td>101</td>\n      <td>9.2%</td>\n      <td>0.0</td>\n      <td>1.82</td>\n      <td>0.25</td>\n      <td>0.45</td>\n    </tr>\n    <tr>\n      <th>147</th>\n      <td>Vetheo</td>\n      <td>Team Vitality</td>\n      <td>Middle</td>\n      <td>12</td>\n      <td>50%</td>\n      <td>33%</td>\n      <td>61</td>\n      <td>43</td>\n      <td>88</td>\n      <td>3.5</td>\n      <td>...</td>\n      <td>29.6%</td>\n      <td>684</td>\n      <td>22.9%</td>\n      <td>22.4%</td>\n      <td>306</td>\n      <td>24.7%</td>\n      <td>0.0</td>\n      <td>0.52</td>\n      <td>0.23</td>\n      <td>0.37</td>\n    </tr>\n    <tr>\n      <th>148</th>\n      <td>Wunder</td>\n      <td>Team Heretics</td>\n      <td>Top</td>\n      <td>8</td>\n      <td>38%</td>\n      <td>50%</td>\n      <td>18</td>\n      <td>19</td>\n      <td>33</td>\n      <td>2.7</td>\n      <td>...</td>\n      <td>22.8%</td>\n      <td>514</td>\n      <td>26.0%</td>\n      <td>23.4%</td>\n      <td>253</td>\n      <td>22.8%</td>\n      <td>0.0</td>\n      <td>0.49</td>\n      <td>0.12</td>\n      <td>0.15</td>\n    </tr>\n    <tr>\n      <th>149</th>\n      <td>Yike</td>\n      <td>G2 Esports</td>\n      <td>Jungle</td>\n      <td>12</td>\n      <td>83%</td>\n      <td>25%</td>\n      <td>40</td>\n      <td>37</td>\n      <td>131</td>\n      <td>4.6</td>\n      <td>...</td>\n      <td>14.2%</td>\n      <td>345</td>\n      <td>13.2%</td>\n      <td>12.2%</td>\n      <td>229</td>\n      <td>17.7%</td>\n      <td>3.0</td>\n      <td>0.34</td>\n      <td>0.25</td>\n      <td>0.30</td>\n    </tr>\n    <tr>\n      <th>150</th>\n      <td>Zwyroo</td>\n      <td>Team Heretics</td>\n      <td>Middle</td>\n      <td>8</td>\n      <td>38%</td>\n      <td>13%</td>\n      <td>30</td>\n      <td>13</td>\n      <td>32</td>\n      <td>4.8</td>\n      <td>...</td>\n      <td>31.0%</td>\n      <td>592</td>\n      <td>30.6%</td>\n      <td>32.5%</td>\n      <td>299</td>\n      <td>27.2%</td>\n      <td>0.0</td>\n      <td>0.55</td>\n      <td>0.16</td>\n      <td>0.35</td>\n    </tr>\n  </tbody>\n</table>\n<p>151 rows × 28 columns</p>\n</div>"
     },
     "execution_count": 5,
     "metadata": {},
     "output_type": "execute_result"
    }
   ],
   "source": [
    "%%sql\n",
    "select * FROM `LPL Players`\n",
    "UNION\n",
    "select * from `LCK Players`\n",
    "UNION\n",
    "select * from `LCS Players`\n",
    "UNION\n",
    "select * from `LEC Players`;"
   ],
   "metadata": {
    "collapsed": false,
    "SqlCellData": {
     "data_source_name": "test_db@localhost",
     "variableName$1": "df_sql"
    },
    "ExecuteTime": {
     "end_time": "2024-05-06T19:19:10.874543Z",
     "start_time": "2024-05-06T19:19:10.835314Z"
    }
   },
   "id": "bd4a9468053e0ea4",
   "execution_count": 5
  },
  {
   "cell_type": "markdown",
   "source": [
    "Can we do some cluster analysis or some regression analysis on this."
   ],
   "metadata": {
    "collapsed": false
   },
   "id": "e77b718a66672b05"
  },
  {
   "cell_type": "code",
   "outputs": [
    {
     "data": {
      "text/plain": "  Player               Team     Pos  GP   W% CTR%   K   D    A  KDA  ...  \\\n0    369        Top Esports     Top  16  56%  63%  46  39   83  3.3  ...   \n1   Able          Oh My God     ADC   4  25%  25%  10   5   15  5.0  ...   \n2    Ahn    Invictus Gaming     ADC   5  40%  80%  20  14   14  2.4  ...   \n3    Aki  Ninjas in Pyjamas  Jungle  18  50%  44%  38  41  119  3.8  ...   \n4  Angel          Oh My God  Middle   4  25%  50%  10  10   12  2.2  ...   \n\n  CS%P15  DPM   DMG% D%P15  EGPM  GOLD%  STL   WPM  CWPM  WCPM  \n0    NaN  598  22.7%   NaN   262  21.9%  NaN  0.33  0.20  0.19  \n1    NaN  644  25.6%   NaN   313  28.5%  NaN  0.50  0.06  0.70  \n2    NaN  551  25.4%   NaN   326  29.2%  NaN  0.39  0.07  0.39  \n3    NaN  294  11.8%   NaN   200  17.0%  NaN  0.43  0.29  0.41  \n4    NaN  674  27.9%   NaN   244  22.7%  NaN  0.51  0.28  0.16  \n\n[5 rows x 28 columns]",
      "text/html": "<div>\n<style scoped>\n    .dataframe tbody tr th:only-of-type {\n        vertical-align: middle;\n    }\n\n    .dataframe tbody tr th {\n        vertical-align: top;\n    }\n\n    .dataframe thead th {\n        text-align: right;\n    }\n</style>\n<table border=\"1\" class=\"dataframe\">\n  <thead>\n    <tr style=\"text-align: right;\">\n      <th></th>\n      <th>Player</th>\n      <th>Team</th>\n      <th>Pos</th>\n      <th>GP</th>\n      <th>W%</th>\n      <th>CTR%</th>\n      <th>K</th>\n      <th>D</th>\n      <th>A</th>\n      <th>KDA</th>\n      <th>...</th>\n      <th>CS%P15</th>\n      <th>DPM</th>\n      <th>DMG%</th>\n      <th>D%P15</th>\n      <th>EGPM</th>\n      <th>GOLD%</th>\n      <th>STL</th>\n      <th>WPM</th>\n      <th>CWPM</th>\n      <th>WCPM</th>\n    </tr>\n  </thead>\n  <tbody>\n    <tr>\n      <th>0</th>\n      <td>369</td>\n      <td>Top Esports</td>\n      <td>Top</td>\n      <td>16</td>\n      <td>56%</td>\n      <td>63%</td>\n      <td>46</td>\n      <td>39</td>\n      <td>83</td>\n      <td>3.3</td>\n      <td>...</td>\n      <td>NaN</td>\n      <td>598</td>\n      <td>22.7%</td>\n      <td>NaN</td>\n      <td>262</td>\n      <td>21.9%</td>\n      <td>NaN</td>\n      <td>0.33</td>\n      <td>0.20</td>\n      <td>0.19</td>\n    </tr>\n    <tr>\n      <th>1</th>\n      <td>Able</td>\n      <td>Oh My God</td>\n      <td>ADC</td>\n      <td>4</td>\n      <td>25%</td>\n      <td>25%</td>\n      <td>10</td>\n      <td>5</td>\n      <td>15</td>\n      <td>5.0</td>\n      <td>...</td>\n      <td>NaN</td>\n      <td>644</td>\n      <td>25.6%</td>\n      <td>NaN</td>\n      <td>313</td>\n      <td>28.5%</td>\n      <td>NaN</td>\n      <td>0.50</td>\n      <td>0.06</td>\n      <td>0.70</td>\n    </tr>\n    <tr>\n      <th>2</th>\n      <td>Ahn</td>\n      <td>Invictus Gaming</td>\n      <td>ADC</td>\n      <td>5</td>\n      <td>40%</td>\n      <td>80%</td>\n      <td>20</td>\n      <td>14</td>\n      <td>14</td>\n      <td>2.4</td>\n      <td>...</td>\n      <td>NaN</td>\n      <td>551</td>\n      <td>25.4%</td>\n      <td>NaN</td>\n      <td>326</td>\n      <td>29.2%</td>\n      <td>NaN</td>\n      <td>0.39</td>\n      <td>0.07</td>\n      <td>0.39</td>\n    </tr>\n    <tr>\n      <th>3</th>\n      <td>Aki</td>\n      <td>Ninjas in Pyjamas</td>\n      <td>Jungle</td>\n      <td>18</td>\n      <td>50%</td>\n      <td>44%</td>\n      <td>38</td>\n      <td>41</td>\n      <td>119</td>\n      <td>3.8</td>\n      <td>...</td>\n      <td>NaN</td>\n      <td>294</td>\n      <td>11.8%</td>\n      <td>NaN</td>\n      <td>200</td>\n      <td>17.0%</td>\n      <td>NaN</td>\n      <td>0.43</td>\n      <td>0.29</td>\n      <td>0.41</td>\n    </tr>\n    <tr>\n      <th>4</th>\n      <td>Angel</td>\n      <td>Oh My God</td>\n      <td>Middle</td>\n      <td>4</td>\n      <td>25%</td>\n      <td>50%</td>\n      <td>10</td>\n      <td>10</td>\n      <td>12</td>\n      <td>2.2</td>\n      <td>...</td>\n      <td>NaN</td>\n      <td>674</td>\n      <td>27.9%</td>\n      <td>NaN</td>\n      <td>244</td>\n      <td>22.7%</td>\n      <td>NaN</td>\n      <td>0.51</td>\n      <td>0.28</td>\n      <td>0.16</td>\n    </tr>\n  </tbody>\n</table>\n<p>5 rows × 28 columns</p>\n</div>"
     },
     "execution_count": 6,
     "metadata": {},
     "output_type": "execute_result"
    }
   ],
   "source": [
    "df_sql.head()"
   ],
   "metadata": {
    "collapsed": false,
    "ExecuteTime": {
     "end_time": "2024-05-06T19:52:54.066514Z",
     "start_time": "2024-05-06T19:52:54.063483Z"
    }
   },
   "id": "7f99fb0618593b0c",
   "execution_count": 6
  },
  {
   "cell_type": "code",
   "outputs": [],
   "source": [],
   "metadata": {
    "collapsed": false
   },
   "id": "ec90c3222bcf4bdb"
  }
 ],
 "metadata": {
  "kernelspec": {
   "display_name": "Python 3",
   "language": "python",
   "name": "python3"
  },
  "language_info": {
   "codemirror_mode": {
    "name": "ipython",
    "version": 2
   },
   "file_extension": ".py",
   "mimetype": "text/x-python",
   "name": "python",
   "nbconvert_exporter": "python",
   "pygments_lexer": "ipython2",
   "version": "2.7.6"
  }
 },
 "nbformat": 4,
 "nbformat_minor": 5
}
