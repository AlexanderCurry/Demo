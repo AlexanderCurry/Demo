{
 "cells": [
  {
   "cell_type": "code",
   "execution_count": 1,
   "id": "initial_id",
   "metadata": {
    "collapsed": true,
    "ExecuteTime": {
     "end_time": "2024-02-07T05:35:35.114567Z",
     "start_time": "2024-02-07T05:35:34.263404Z"
    }
   },
   "outputs": [],
   "source": [
    "import torch\n",
    "import numpy as np"
   ]
  },
  {
   "cell_type": "code",
   "outputs": [
    {
     "data": {
      "text/plain": "'2.1.0.post100'"
     },
     "execution_count": 2,
     "metadata": {},
     "output_type": "execute_result"
    }
   ],
   "source": [
    "torch.__version__"
   ],
   "metadata": {
    "collapsed": false,
    "ExecuteTime": {
     "end_time": "2024-02-07T05:35:35.137496Z",
     "start_time": "2024-02-07T05:35:35.114823Z"
    }
   },
   "id": "bb78c2fde975a6b0",
   "execution_count": 2
  },
  {
   "cell_type": "code",
   "outputs": [],
   "source": [
    "arr = np.array([1,2,3,4,5])"
   ],
   "metadata": {
    "collapsed": false,
    "ExecuteTime": {
     "end_time": "2024-02-07T05:35:35.146942Z",
     "start_time": "2024-02-07T05:35:35.117137Z"
    }
   },
   "id": "7aa161f816b44430",
   "execution_count": 3
  },
  {
   "cell_type": "code",
   "outputs": [
    {
     "data": {
      "text/plain": "dtype('int64')"
     },
     "execution_count": 4,
     "metadata": {},
     "output_type": "execute_result"
    }
   ],
   "source": [
    "arr.dtype"
   ],
   "metadata": {
    "collapsed": false,
    "ExecuteTime": {
     "end_time": "2024-02-07T05:35:35.150325Z",
     "start_time": "2024-02-07T05:35:35.119250Z"
    }
   },
   "id": "7183e2a2adda5a8c",
   "execution_count": 4
  },
  {
   "cell_type": "code",
   "outputs": [],
   "source": [
    "x = torch.from_numpy(arr)"
   ],
   "metadata": {
    "collapsed": false,
    "ExecuteTime": {
     "end_time": "2024-02-07T05:35:35.153054Z",
     "start_time": "2024-02-07T05:35:35.121305Z"
    }
   },
   "id": "547e805071727eaf",
   "execution_count": 5
  },
  {
   "cell_type": "code",
   "outputs": [
    {
     "data": {
      "text/plain": "torch.int64"
     },
     "execution_count": 6,
     "metadata": {},
     "output_type": "execute_result"
    }
   ],
   "source": [
    "x.dtype"
   ],
   "metadata": {
    "collapsed": false,
    "ExecuteTime": {
     "end_time": "2024-02-07T05:35:35.155903Z",
     "start_time": "2024-02-07T05:35:35.123928Z"
    }
   },
   "id": "63c16e4217da0e69",
   "execution_count": 6
  },
  {
   "cell_type": "code",
   "outputs": [],
   "source": [
    "arr2d = np.arange(0.0,12.0)"
   ],
   "metadata": {
    "collapsed": false,
    "ExecuteTime": {
     "end_time": "2024-02-07T05:35:35.165149Z",
     "start_time": "2024-02-07T05:35:35.126335Z"
    }
   },
   "id": "44b8c50910f1a59c",
   "execution_count": 7
  },
  {
   "cell_type": "code",
   "outputs": [],
   "source": [
    "arr2d = arr2d.reshape(4,3)"
   ],
   "metadata": {
    "collapsed": false,
    "ExecuteTime": {
     "end_time": "2024-02-07T05:35:35.168063Z",
     "start_time": "2024-02-07T05:35:35.128317Z"
    }
   },
   "id": "c74377a91f777e9e",
   "execution_count": 8
  },
  {
   "cell_type": "code",
   "outputs": [],
   "source": [
    "x2 = torch.from_numpy(arr2d)"
   ],
   "metadata": {
    "collapsed": false,
    "ExecuteTime": {
     "end_time": "2024-02-07T05:35:35.170782Z",
     "start_time": "2024-02-07T05:35:35.130366Z"
    }
   },
   "id": "775c653a2e62d162",
   "execution_count": 9
  },
  {
   "cell_type": "code",
   "outputs": [
    {
     "data": {
      "text/plain": "tensor([[ 0.,  1.,  2.],\n        [ 3.,  4.,  5.],\n        [ 6.,  7.,  8.],\n        [ 9., 10., 11.]], dtype=torch.float64)"
     },
     "execution_count": 10,
     "metadata": {},
     "output_type": "execute_result"
    }
   ],
   "source": [
    "x2"
   ],
   "metadata": {
    "collapsed": false,
    "ExecuteTime": {
     "end_time": "2024-02-07T05:35:35.203608Z",
     "start_time": "2024-02-07T05:35:35.134548Z"
    }
   },
   "id": "38d9eafa48580599",
   "execution_count": 10
  },
  {
   "cell_type": "code",
   "outputs": [],
   "source": [
    "arr[0] = 99"
   ],
   "metadata": {
    "collapsed": false,
    "ExecuteTime": {
     "end_time": "2024-02-07T05:35:35.239531Z",
     "start_time": "2024-02-07T05:35:35.137275Z"
    }
   },
   "id": "e6c0d53fa6c4c191",
   "execution_count": 11
  },
  {
   "cell_type": "code",
   "outputs": [
    {
     "data": {
      "text/plain": "array([99,  2,  3,  4,  5])"
     },
     "execution_count": 12,
     "metadata": {},
     "output_type": "execute_result"
    }
   ],
   "source": [
    "arr"
   ],
   "metadata": {
    "collapsed": false,
    "ExecuteTime": {
     "end_time": "2024-02-07T05:35:35.242797Z",
     "start_time": "2024-02-07T05:35:35.139385Z"
    }
   },
   "id": "a17ff88ff2e562cc",
   "execution_count": 12
  },
  {
   "cell_type": "code",
   "outputs": [
    {
     "data": {
      "text/plain": "tensor([99,  2,  3,  4,  5])"
     },
     "execution_count": 13,
     "metadata": {},
     "output_type": "execute_result"
    }
   ],
   "source": [
    "x"
   ],
   "metadata": {
    "collapsed": false,
    "ExecuteTime": {
     "end_time": "2024-02-07T05:35:35.250808Z",
     "start_time": "2024-02-07T05:35:35.141664Z"
    }
   },
   "id": "4670920efc8dfa40",
   "execution_count": 13
  },
  {
   "cell_type": "code",
   "outputs": [],
   "source": [
    "my_arr = np.arange(0,10)"
   ],
   "metadata": {
    "collapsed": false,
    "ExecuteTime": {
     "end_time": "2024-02-07T05:35:35.258042Z",
     "start_time": "2024-02-07T05:35:35.144065Z"
    }
   },
   "id": "f88f0bdf51d22863",
   "execution_count": 14
  },
  {
   "cell_type": "code",
   "outputs": [],
   "source": [
    "my_tensor = torch.tensor(my_arr)"
   ],
   "metadata": {
    "collapsed": false,
    "ExecuteTime": {
     "end_time": "2024-02-07T05:35:35.268292Z",
     "start_time": "2024-02-07T05:35:35.146407Z"
    }
   },
   "id": "5eafcf9e4278e2f9",
   "execution_count": 15
  },
  {
   "cell_type": "code",
   "outputs": [],
   "source": [
    "my_other_tensor = torch.from_numpy(my_arr)"
   ],
   "metadata": {
    "collapsed": false,
    "ExecuteTime": {
     "end_time": "2024-02-07T05:35:35.279359Z",
     "start_time": "2024-02-07T05:35:35.148801Z"
    }
   },
   "id": "ca501fca5f8774c6",
   "execution_count": 16
  },
  {
   "cell_type": "code",
   "outputs": [
    {
     "data": {
      "text/plain": "tensor([0, 1, 2, 3, 4, 5, 6, 7, 8, 9])"
     },
     "execution_count": 17,
     "metadata": {},
     "output_type": "execute_result"
    }
   ],
   "source": [
    "my_tensor"
   ],
   "metadata": {
    "collapsed": false,
    "ExecuteTime": {
     "end_time": "2024-02-07T05:35:35.290328Z",
     "start_time": "2024-02-07T05:35:35.150590Z"
    }
   },
   "id": "a43539e17d7e878d",
   "execution_count": 17
  },
  {
   "cell_type": "code",
   "outputs": [
    {
     "data": {
      "text/plain": "tensor([0, 1, 2, 3, 4, 5, 6, 7, 8, 9])"
     },
     "execution_count": 18,
     "metadata": {},
     "output_type": "execute_result"
    }
   ],
   "source": [
    "my_other_tensor"
   ],
   "metadata": {
    "collapsed": false,
    "ExecuteTime": {
     "end_time": "2024-02-07T05:35:35.296041Z",
     "start_time": "2024-02-07T05:35:35.153115Z"
    }
   },
   "id": "d8c5307972f48495",
   "execution_count": 18
  },
  {
   "cell_type": "code",
   "outputs": [],
   "source": [
    "my_arr[0] = 9999"
   ],
   "metadata": {
    "collapsed": false,
    "ExecuteTime": {
     "end_time": "2024-02-07T05:35:35.309468Z",
     "start_time": "2024-02-07T05:35:35.155656Z"
    }
   },
   "id": "dee1a9f29dbabdef",
   "execution_count": 19
  },
  {
   "cell_type": "code",
   "outputs": [
    {
     "data": {
      "text/plain": "array([9999,    1,    2,    3,    4,    5,    6,    7,    8,    9])"
     },
     "execution_count": 20,
     "metadata": {},
     "output_type": "execute_result"
    }
   ],
   "source": [
    "my_arr"
   ],
   "metadata": {
    "collapsed": false,
    "ExecuteTime": {
     "end_time": "2024-02-07T05:35:35.312578Z",
     "start_time": "2024-02-07T05:35:35.157714Z"
    }
   },
   "id": "f0de1d5da16b26ea",
   "execution_count": 20
  },
  {
   "cell_type": "code",
   "outputs": [
    {
     "data": {
      "text/plain": "tensor([[0., 0.],\n        [0., 0.]])"
     },
     "execution_count": 21,
     "metadata": {},
     "output_type": "execute_result"
    }
   ],
   "source": [
    "torch.empty(2,2)"
   ],
   "metadata": {
    "collapsed": false,
    "ExecuteTime": {
     "end_time": "2024-02-07T05:35:35.315331Z",
     "start_time": "2024-02-07T05:35:35.160011Z"
    }
   },
   "id": "95574566dfe4ad31",
   "execution_count": 21
  },
  {
   "cell_type": "code",
   "outputs": [
    {
     "data": {
      "text/plain": "tensor([[0, 0, 0],\n        [0, 0, 0],\n        [0, 0, 0],\n        [0, 0, 0]], dtype=torch.int32)"
     },
     "execution_count": 22,
     "metadata": {},
     "output_type": "execute_result"
    }
   ],
   "source": [
    "torch.zeros(4,3,dtype=torch.int32)"
   ],
   "metadata": {
    "collapsed": false,
    "ExecuteTime": {
     "end_time": "2024-02-07T05:35:35.322878Z",
     "start_time": "2024-02-07T05:35:35.163057Z"
    }
   },
   "id": "198dc731cef8e209",
   "execution_count": 22
  },
  {
   "cell_type": "code",
   "outputs": [
    {
     "data": {
      "text/plain": "tensor([[1., 1., 1.],\n        [1., 1., 1.],\n        [1., 1., 1.],\n        [1., 1., 1.]])"
     },
     "execution_count": 23,
     "metadata": {},
     "output_type": "execute_result"
    }
   ],
   "source": [
    "torch.ones(4,3)"
   ],
   "metadata": {
    "collapsed": false,
    "ExecuteTime": {
     "end_time": "2024-02-07T05:35:35.332657Z",
     "start_time": "2024-02-07T05:35:35.165804Z"
    }
   },
   "id": "701809186b3e2f22",
   "execution_count": 23
  },
  {
   "cell_type": "code",
   "outputs": [
    {
     "data": {
      "text/plain": "tensor([[ 0,  2,  4],\n        [ 6,  8, 10],\n        [12, 14, 16]])"
     },
     "execution_count": 24,
     "metadata": {},
     "output_type": "execute_result"
    }
   ],
   "source": [
    "torch.arange(0,18,2).reshape(3,3)"
   ],
   "metadata": {
    "collapsed": false,
    "ExecuteTime": {
     "end_time": "2024-02-07T05:35:35.338324Z",
     "start_time": "2024-02-07T05:35:35.168469Z"
    }
   },
   "id": "f484d1553bfe5de2",
   "execution_count": 24
  },
  {
   "cell_type": "code",
   "outputs": [
    {
     "data": {
      "text/plain": "tensor([[ 0,  1,  3,  4],\n        [ 6,  8,  9, 11],\n        [13, 14, 16, 18]], dtype=torch.int32)"
     },
     "execution_count": 25,
     "metadata": {},
     "output_type": "execute_result"
    }
   ],
   "source": [
    "torch.linspace(0,18,12,dtype=torch.int32).reshape(3,4)"
   ],
   "metadata": {
    "collapsed": false,
    "ExecuteTime": {
     "end_time": "2024-02-07T05:35:35.352977Z",
     "start_time": "2024-02-07T05:35:35.171067Z"
    }
   },
   "id": "fdbd94fa1e0fb70f",
   "execution_count": 25
  },
  {
   "cell_type": "code",
   "outputs": [],
   "source": [
    "my_tensor = torch.tensor([1,2,3])"
   ],
   "metadata": {
    "collapsed": false,
    "ExecuteTime": {
     "end_time": "2024-02-07T05:35:35.355787Z",
     "start_time": "2024-02-07T05:35:35.173900Z"
    }
   },
   "id": "e8f3f989e5f40ad7",
   "execution_count": 26
  },
  {
   "cell_type": "code",
   "outputs": [
    {
     "data": {
      "text/plain": "torch.int64"
     },
     "execution_count": 27,
     "metadata": {},
     "output_type": "execute_result"
    }
   ],
   "source": [
    "my_tensor.dtype"
   ],
   "metadata": {
    "collapsed": false,
    "ExecuteTime": {
     "end_time": "2024-02-07T05:35:35.358546Z",
     "start_time": "2024-02-07T05:35:35.176960Z"
    }
   },
   "id": "a92075bbb18813a1",
   "execution_count": 27
  },
  {
   "cell_type": "code",
   "outputs": [
    {
     "data": {
      "text/plain": "tensor([1, 2, 3], dtype=torch.int32)"
     },
     "execution_count": 28,
     "metadata": {},
     "output_type": "execute_result"
    }
   ],
   "source": [
    "my_tensor.type(torch.int32)"
   ],
   "metadata": {
    "collapsed": false,
    "ExecuteTime": {
     "end_time": "2024-02-07T05:35:35.361430Z",
     "start_time": "2024-02-07T05:35:35.179713Z"
    }
   },
   "id": "ec7268e5d4fa08d4",
   "execution_count": 28
  },
  {
   "cell_type": "code",
   "outputs": [
    {
     "data": {
      "text/plain": "'torch.LongTensor'"
     },
     "execution_count": 29,
     "metadata": {},
     "output_type": "execute_result"
    }
   ],
   "source": [
    "my_tensor.type()"
   ],
   "metadata": {
    "collapsed": false,
    "ExecuteTime": {
     "end_time": "2024-02-07T05:35:35.368905Z",
     "start_time": "2024-02-07T05:35:35.182651Z"
    }
   },
   "id": "4a20376788fe8278",
   "execution_count": 29
  },
  {
   "cell_type": "code",
   "outputs": [
    {
     "data": {
      "text/plain": "tensor([[0.4007, 0.7681, 0.6968],\n        [0.9441, 0.5177, 0.0193],\n        [0.6248, 0.8663, 0.5956],\n        [0.0924, 0.5891, 0.9889]])"
     },
     "execution_count": 30,
     "metadata": {},
     "output_type": "execute_result"
    }
   ],
   "source": [
    "torch.rand(4,3)"
   ],
   "metadata": {
    "collapsed": false,
    "ExecuteTime": {
     "end_time": "2024-02-07T05:35:35.371623Z",
     "start_time": "2024-02-07T05:35:35.185722Z"
    }
   },
   "id": "cbbca5b642a7a86f",
   "execution_count": 30
  },
  {
   "cell_type": "code",
   "outputs": [
    {
     "data": {
      "text/plain": "tensor([[-1.5485,  0.3191, -1.2687],\n        [ 0.4174, -1.0401,  1.2704],\n        [ 0.4229, -0.3196,  2.6203],\n        [-0.0866, -0.5980, -0.5677]])"
     },
     "execution_count": 31,
     "metadata": {},
     "output_type": "execute_result"
    }
   ],
   "source": [
    "torch.randn(4,3)"
   ],
   "metadata": {
    "collapsed": false,
    "ExecuteTime": {
     "end_time": "2024-02-07T05:35:35.379664Z",
     "start_time": "2024-02-07T05:35:35.188737Z"
    }
   },
   "id": "b23b2898e7b700b1",
   "execution_count": 31
  },
  {
   "cell_type": "code",
   "outputs": [
    {
     "data": {
      "text/plain": "tensor([[2, 5, 9, 0, 1],\n        [8, 4, 7, 1, 4],\n        [5, 2, 0, 8, 5],\n        [1, 5, 9, 0, 9],\n        [6, 0, 6, 9, 5]])"
     },
     "execution_count": 32,
     "metadata": {},
     "output_type": "execute_result"
    }
   ],
   "source": [
    "torch.randint(low=0,high=11,size=(5,5))"
   ],
   "metadata": {
    "collapsed": false,
    "ExecuteTime": {
     "end_time": "2024-02-07T05:35:35.447230Z",
     "start_time": "2024-02-07T05:35:35.191485Z"
    }
   },
   "id": "6d34a4a2df449ef",
   "execution_count": 32
  },
  {
   "cell_type": "code",
   "outputs": [],
   "source": [
    "x = torch.zeros(2,5)"
   ],
   "metadata": {
    "collapsed": false,
    "ExecuteTime": {
     "end_time": "2024-02-07T05:35:35.449840Z",
     "start_time": "2024-02-07T05:35:35.193979Z"
    }
   },
   "id": "ed23942ad6a12cf4",
   "execution_count": 33
  },
  {
   "cell_type": "code",
   "outputs": [
    {
     "data": {
      "text/plain": "tensor([[0.7088, 0.8407, 0.1023, 0.2833, 0.1741],\n        [0.6180, 0.0722, 0.9157, 0.9380, 0.3101]])"
     },
     "execution_count": 34,
     "metadata": {},
     "output_type": "execute_result"
    }
   ],
   "source": [
    "torch.rand_like(x)"
   ],
   "metadata": {
    "collapsed": false,
    "ExecuteTime": {
     "end_time": "2024-02-07T05:35:35.468392Z",
     "start_time": "2024-02-07T05:35:35.196052Z"
    }
   },
   "id": "458c7fb83abc8ce5",
   "execution_count": 34
  },
  {
   "cell_type": "code",
   "outputs": [
    {
     "data": {
      "text/plain": "tensor([[ 0.7997, -0.3675, -0.5360, -0.1268, -0.8698],\n        [-0.5258, -0.0831, -0.7305, -0.0854, -0.0117]])"
     },
     "execution_count": 35,
     "metadata": {},
     "output_type": "execute_result"
    }
   ],
   "source": [
    "torch.randn_like(x)"
   ],
   "metadata": {
    "collapsed": false,
    "ExecuteTime": {
     "end_time": "2024-02-07T05:35:35.471051Z",
     "start_time": "2024-02-07T05:35:35.198575Z"
    }
   },
   "id": "3f72638c9139866",
   "execution_count": 35
  },
  {
   "cell_type": "code",
   "outputs": [
    {
     "data": {
      "text/plain": "tensor([[10.,  6.,  9.,  9.,  5.],\n        [ 9.,  3.,  2.,  9., 10.]])"
     },
     "execution_count": 36,
     "metadata": {},
     "output_type": "execute_result"
    }
   ],
   "source": [
    "torch.randint_like(x,low=0,high=11)"
   ],
   "metadata": {
    "collapsed": false,
    "ExecuteTime": {
     "end_time": "2024-02-07T05:35:35.489775Z",
     "start_time": "2024-02-07T05:35:35.201995Z"
    }
   },
   "id": "ad35ac31b0568746",
   "execution_count": 36
  },
  {
   "cell_type": "code",
   "outputs": [
    {
     "data": {
      "text/plain": "tensor([[0.8823, 0.9150, 0.3829],\n        [0.9593, 0.3904, 0.6009]])"
     },
     "execution_count": 37,
     "metadata": {},
     "output_type": "execute_result"
    }
   ],
   "source": [
    "torch.manual_seed(42)\n",
    "torch.rand(2,3)"
   ],
   "metadata": {
    "collapsed": false,
    "ExecuteTime": {
     "end_time": "2024-02-07T05:35:35.492371Z",
     "start_time": "2024-02-07T05:35:35.209179Z"
    }
   },
   "id": "db087b33127ccaf7",
   "execution_count": 37
  },
  {
   "cell_type": "code",
   "outputs": [],
   "source": [
    "x = torch.arange(6).reshape(3,2)"
   ],
   "metadata": {
    "collapsed": false,
    "ExecuteTime": {
     "end_time": "2024-02-07T05:35:35.502425Z",
     "start_time": "2024-02-07T05:35:35.213141Z"
    }
   },
   "id": "41d39215210e0afc",
   "execution_count": 38
  },
  {
   "cell_type": "code",
   "outputs": [
    {
     "data": {
      "text/plain": "tensor([[0, 1],\n        [2, 3],\n        [4, 5]])"
     },
     "execution_count": 39,
     "metadata": {},
     "output_type": "execute_result"
    }
   ],
   "source": [
    "x"
   ],
   "metadata": {
    "collapsed": false,
    "ExecuteTime": {
     "end_time": "2024-02-07T05:35:35.505060Z",
     "start_time": "2024-02-07T05:35:35.216339Z"
    }
   },
   "id": "2896e3154c22c1dc",
   "execution_count": 39
  },
  {
   "cell_type": "code",
   "outputs": [
    {
     "data": {
      "text/plain": "tensor(3)"
     },
     "execution_count": 40,
     "metadata": {},
     "output_type": "execute_result"
    }
   ],
   "source": [
    "x[1,1]"
   ],
   "metadata": {
    "collapsed": false,
    "ExecuteTime": {
     "end_time": "2024-02-07T05:35:35.507615Z",
     "start_time": "2024-02-07T05:35:35.219195Z"
    }
   },
   "id": "846ce9d015067c38",
   "execution_count": 40
  },
  {
   "cell_type": "code",
   "outputs": [
    {
     "data": {
      "text/plain": "tensor([[1],\n        [3],\n        [5]])"
     },
     "execution_count": 41,
     "metadata": {},
     "output_type": "execute_result"
    }
   ],
   "source": [
    "x[:,1:]"
   ],
   "metadata": {
    "collapsed": false,
    "ExecuteTime": {
     "end_time": "2024-02-07T05:35:35.513954Z",
     "start_time": "2024-02-07T05:35:35.221993Z"
    }
   },
   "id": "41e22e4e22d69cba",
   "execution_count": 41
  },
  {
   "cell_type": "code",
   "outputs": [],
   "source": [
    "x = torch.arange(10)"
   ],
   "metadata": {
    "collapsed": false,
    "ExecuteTime": {
     "end_time": "2024-02-07T05:35:35.516582Z",
     "start_time": "2024-02-07T05:35:35.224719Z"
    }
   },
   "id": "dd14a54697523df3",
   "execution_count": 42
  },
  {
   "cell_type": "code",
   "outputs": [
    {
     "data": {
      "text/plain": "tensor([0, 1, 2, 3, 4, 5, 6, 7, 8, 9])"
     },
     "execution_count": 43,
     "metadata": {},
     "output_type": "execute_result"
    }
   ],
   "source": [
    "x"
   ],
   "metadata": {
    "collapsed": false,
    "ExecuteTime": {
     "end_time": "2024-02-07T05:35:35.519206Z",
     "start_time": "2024-02-07T05:35:35.227572Z"
    }
   },
   "id": "6bee92083bb78eb3",
   "execution_count": 43
  },
  {
   "cell_type": "code",
   "outputs": [
    {
     "data": {
      "text/plain": "tensor([[0, 1, 2, 3, 4],\n        [5, 6, 7, 8, 9]])"
     },
     "execution_count": 44,
     "metadata": {},
     "output_type": "execute_result"
    }
   ],
   "source": [
    "x.view(2,5)"
   ],
   "metadata": {
    "collapsed": false,
    "ExecuteTime": {
     "end_time": "2024-02-07T05:35:35.521796Z",
     "start_time": "2024-02-07T05:35:35.230687Z"
    }
   },
   "id": "af6f55ba629b89b0",
   "execution_count": 44
  },
  {
   "cell_type": "code",
   "outputs": [
    {
     "data": {
      "text/plain": "tensor([[0, 1, 2, 3, 4],\n        [5, 6, 7, 8, 9]])"
     },
     "execution_count": 45,
     "metadata": {},
     "output_type": "execute_result"
    }
   ],
   "source": [
    "x.reshape(2,5)"
   ],
   "metadata": {
    "collapsed": false,
    "ExecuteTime": {
     "end_time": "2024-02-07T05:35:35.524569Z",
     "start_time": "2024-02-07T05:35:35.233922Z"
    }
   },
   "id": "af73a9350da33f1c",
   "execution_count": 45
  },
  {
   "cell_type": "code",
   "outputs": [],
   "source": [
    "x = x.reshape(2,5)"
   ],
   "metadata": {
    "collapsed": false,
    "ExecuteTime": {
     "end_time": "2024-02-07T05:35:35.531166Z",
     "start_time": "2024-02-07T05:35:35.236782Z"
    }
   },
   "id": "3c7f4d09b25b33b2",
   "execution_count": 46
  },
  {
   "cell_type": "code",
   "outputs": [
    {
     "data": {
      "text/plain": "tensor([[0, 1, 2, 3, 4],\n        [5, 6, 7, 8, 9]])"
     },
     "execution_count": 47,
     "metadata": {},
     "output_type": "execute_result"
    }
   ],
   "source": [
    "x"
   ],
   "metadata": {
    "collapsed": false,
    "ExecuteTime": {
     "end_time": "2024-02-07T05:35:35.537013Z",
     "start_time": "2024-02-07T05:35:35.239624Z"
    }
   },
   "id": "db3242e83eb0faa6",
   "execution_count": 47
  },
  {
   "cell_type": "code",
   "outputs": [],
   "source": [
    "x = torch.arange(10)"
   ],
   "metadata": {
    "collapsed": false,
    "ExecuteTime": {
     "end_time": "2024-02-07T05:35:35.549228Z",
     "start_time": "2024-02-07T05:35:35.242664Z"
    }
   },
   "id": "d5d9925e2875baad",
   "execution_count": 48
  },
  {
   "cell_type": "code",
   "outputs": [
    {
     "data": {
      "text/plain": "torch.Size([10])"
     },
     "execution_count": 49,
     "metadata": {},
     "output_type": "execute_result"
    }
   ],
   "source": [
    "x.shape"
   ],
   "metadata": {
    "collapsed": false,
    "ExecuteTime": {
     "end_time": "2024-02-07T05:35:35.552072Z",
     "start_time": "2024-02-07T05:35:35.244642Z"
    }
   },
   "id": "fc6b6a1532e601db",
   "execution_count": 49
  },
  {
   "cell_type": "code",
   "outputs": [],
   "source": [
    "z = x.view(2,5)"
   ],
   "metadata": {
    "collapsed": false,
    "ExecuteTime": {
     "end_time": "2024-02-07T05:35:35.554684Z",
     "start_time": "2024-02-07T05:35:35.247105Z"
    }
   },
   "id": "e3799f91b73f3564",
   "execution_count": 50
  },
  {
   "cell_type": "code",
   "outputs": [],
   "source": [
    "x = torch.arange(10)"
   ],
   "metadata": {
    "collapsed": false,
    "ExecuteTime": {
     "end_time": "2024-02-07T05:35:35.562536Z",
     "start_time": "2024-02-07T05:35:35.249355Z"
    }
   },
   "id": "30b64f6956130bf6",
   "execution_count": 51
  },
  {
   "cell_type": "code",
   "outputs": [
    {
     "data": {
      "text/plain": "tensor([[0, 1, 2, 3, 4],\n        [5, 6, 7, 8, 9]])"
     },
     "execution_count": 52,
     "metadata": {},
     "output_type": "execute_result"
    }
   ],
   "source": [
    "x.view(2,-1)"
   ],
   "metadata": {
    "collapsed": false,
    "ExecuteTime": {
     "end_time": "2024-02-07T05:35:35.569234Z",
     "start_time": "2024-02-07T05:35:35.251763Z"
    }
   },
   "id": "30c34891a224921e",
   "execution_count": 52
  },
  {
   "cell_type": "code",
   "outputs": [],
   "source": [
    "a = torch.tensor([1.,2.,3.])"
   ],
   "metadata": {
    "collapsed": false,
    "ExecuteTime": {
     "end_time": "2024-02-07T05:35:35.572730Z",
     "start_time": "2024-02-07T05:35:35.255091Z"
    }
   },
   "id": "12a4518246ee475",
   "execution_count": 53
  },
  {
   "cell_type": "code",
   "outputs": [
    {
     "data": {
      "text/plain": "torch.float32"
     },
     "execution_count": 54,
     "metadata": {},
     "output_type": "execute_result"
    }
   ],
   "source": [
    "a.dtype"
   ],
   "metadata": {
    "collapsed": false,
    "ExecuteTime": {
     "end_time": "2024-02-07T05:35:35.578190Z",
     "start_time": "2024-02-07T05:35:35.257455Z"
    }
   },
   "id": "fa065648f03ad049",
   "execution_count": 54
  },
  {
   "cell_type": "code",
   "outputs": [],
   "source": [
    "b = torch.tensor([4.,5.,6.])"
   ],
   "metadata": {
    "collapsed": false,
    "ExecuteTime": {
     "end_time": "2024-02-07T05:35:35.580872Z",
     "start_time": "2024-02-07T05:35:35.260143Z"
    }
   },
   "id": "2a6f8cbb21fae2c6",
   "execution_count": 55
  },
  {
   "cell_type": "code",
   "outputs": [
    {
     "data": {
      "text/plain": "tensor([5., 7., 9.])"
     },
     "execution_count": 56,
     "metadata": {},
     "output_type": "execute_result"
    }
   ],
   "source": [
    "a+ b"
   ],
   "metadata": {
    "collapsed": false,
    "ExecuteTime": {
     "end_time": "2024-02-07T05:35:35.588955Z",
     "start_time": "2024-02-07T05:35:35.262856Z"
    }
   },
   "id": "7cab04de127a5dab",
   "execution_count": 56
  },
  {
   "cell_type": "code",
   "outputs": [
    {
     "data": {
      "text/plain": "tensor([5., 7., 9.])"
     },
     "execution_count": 57,
     "metadata": {},
     "output_type": "execute_result"
    }
   ],
   "source": [
    "torch.add(a,b)"
   ],
   "metadata": {
    "collapsed": false,
    "ExecuteTime": {
     "end_time": "2024-02-07T05:35:35.599862Z",
     "start_time": "2024-02-07T05:35:35.265983Z"
    }
   },
   "id": "5dcb8a187b1b2780",
   "execution_count": 57
  },
  {
   "cell_type": "code",
   "outputs": [
    {
     "data": {
      "text/plain": "tensor([ 4., 10., 18.])"
     },
     "execution_count": 58,
     "metadata": {},
     "output_type": "execute_result"
    }
   ],
   "source": [
    "a.mul(b)"
   ],
   "metadata": {
    "collapsed": false,
    "ExecuteTime": {
     "end_time": "2024-02-07T05:35:35.602676Z",
     "start_time": "2024-02-07T05:35:35.269228Z"
    }
   },
   "id": "9b6179e479f273b4",
   "execution_count": 58
  },
  {
   "cell_type": "markdown",
   "source": [
    " Pytorch Gradients"
   ],
   "metadata": {
    "collapsed": false
   },
   "id": "b3835082c39cd46c"
  },
  {
   "cell_type": "code",
   "outputs": [],
   "source": [
    "x  = torch.tensor(2.0,requires_grad=True)  "
   ],
   "metadata": {
    "collapsed": false,
    "ExecuteTime": {
     "end_time": "2024-02-07T05:35:35.605300Z",
     "start_time": "2024-02-07T05:35:35.273041Z"
    }
   },
   "id": "6fdfd0ba6464c6f6",
   "execution_count": 59
  },
  {
   "cell_type": "code",
   "outputs": [],
   "source": [
    "y = 2*x**4 + x**3 + 3*x**2 + 5*x + 1"
   ],
   "metadata": {
    "collapsed": false,
    "ExecuteTime": {
     "end_time": "2024-02-07T05:35:35.607841Z",
     "start_time": "2024-02-07T05:35:35.276172Z"
    }
   },
   "id": "527a5a457e924570",
   "execution_count": 60
  },
  {
   "cell_type": "code",
   "outputs": [
    {
     "name": "stdout",
     "output_type": "stream",
     "text": [
      "tensor(63., grad_fn=<AddBackward0>)\n"
     ]
    }
   ],
   "source": [
    "print(y)"
   ],
   "metadata": {
    "collapsed": false,
    "ExecuteTime": {
     "end_time": "2024-02-07T05:35:35.617905Z",
     "start_time": "2024-02-07T05:35:35.278443Z"
    }
   },
   "id": "4244d77729eac8a6",
   "execution_count": 61
  },
  {
   "cell_type": "code",
   "outputs": [],
   "source": [
    "y.backward()"
   ],
   "metadata": {
    "collapsed": false,
    "ExecuteTime": {
     "end_time": "2024-02-07T05:35:35.635544Z",
     "start_time": "2024-02-07T05:35:35.281129Z"
    }
   },
   "id": "e049b93a72ca078b",
   "execution_count": 62
  },
  {
   "cell_type": "code",
   "outputs": [
    {
     "data": {
      "text/plain": "tensor(93.)"
     },
     "execution_count": 63,
     "metadata": {},
     "output_type": "execute_result"
    }
   ],
   "source": [
    "x.grad"
   ],
   "metadata": {
    "collapsed": false,
    "ExecuteTime": {
     "end_time": "2024-02-07T05:35:35.638183Z",
     "start_time": "2024-02-07T05:35:35.301373Z"
    }
   },
   "id": "5b5ae9791a86c458",
   "execution_count": 63
  },
  {
   "cell_type": "code",
   "outputs": [],
   "source": [
    "x = torch.tensor([[1.,2.,3.],[3.,2.,1.]],requires_grad=True)"
   ],
   "metadata": {
    "collapsed": false,
    "ExecuteTime": {
     "end_time": "2024-02-07T05:35:35.640778Z",
     "start_time": "2024-02-07T05:35:35.304990Z"
    }
   },
   "id": "ce4a4abdc0550aca",
   "execution_count": 64
  },
  {
   "cell_type": "code",
   "outputs": [
    {
     "name": "stdout",
     "output_type": "stream",
     "text": [
      "tensor([[1., 2., 3.],\n",
      "        [3., 2., 1.]], requires_grad=True)\n"
     ]
    }
   ],
   "source": [
    "print(x)"
   ],
   "metadata": {
    "collapsed": false,
    "ExecuteTime": {
     "end_time": "2024-02-07T05:35:35.649952Z",
     "start_time": "2024-02-07T05:35:35.307089Z"
    }
   },
   "id": "318ca36a33c93a36",
   "execution_count": 65
  },
  {
   "cell_type": "code",
   "outputs": [],
   "source": [
    "y = 3*x + 2"
   ],
   "metadata": {
    "collapsed": false,
    "ExecuteTime": {
     "end_time": "2024-02-07T05:35:35.652604Z",
     "start_time": "2024-02-07T05:35:35.310467Z"
    }
   },
   "id": "1a60df6eb71be05d",
   "execution_count": 66
  },
  {
   "cell_type": "code",
   "outputs": [
    {
     "name": "stdout",
     "output_type": "stream",
     "text": [
      "tensor([[ 5.,  8., 11.],\n",
      "        [11.,  8.,  5.]], grad_fn=<AddBackward0>)\n"
     ]
    }
   ],
   "source": [
    "print(y)"
   ],
   "metadata": {
    "collapsed": false,
    "ExecuteTime": {
     "end_time": "2024-02-07T05:35:36.075970Z",
     "start_time": "2024-02-07T05:35:35.689972Z"
    }
   },
   "id": "3777ee14b9377063",
   "execution_count": 67
  },
  {
   "cell_type": "code",
   "outputs": [],
   "source": [
    "z = 2*y**2"
   ],
   "metadata": {
    "collapsed": false,
    "ExecuteTime": {
     "end_time": "2024-02-07T05:35:36.117092Z",
     "start_time": "2024-02-07T05:35:36.087730Z"
    }
   },
   "id": "587f98439f5a75f5",
   "execution_count": 68
  },
  {
   "cell_type": "code",
   "outputs": [
    {
     "name": "stdout",
     "output_type": "stream",
     "text": [
      "tensor([[ 50., 128., 242.],\n",
      "        [242., 128.,  50.]], grad_fn=<MulBackward0>)\n"
     ]
    }
   ],
   "source": [
    "print(z)"
   ],
   "metadata": {
    "collapsed": false,
    "ExecuteTime": {
     "end_time": "2024-02-07T05:35:36.154890Z",
     "start_time": "2024-02-07T05:35:36.138077Z"
    }
   },
   "id": "3cf70215bbad60a0",
   "execution_count": 69
  },
  {
   "cell_type": "code",
   "outputs": [],
   "source": [
    "out = z.mean()"
   ],
   "metadata": {
    "collapsed": false,
    "ExecuteTime": {
     "end_time": "2024-02-07T05:35:36.185482Z",
     "start_time": "2024-02-07T05:35:36.157038Z"
    }
   },
   "id": "650ce6b795309943",
   "execution_count": 70
  },
  {
   "cell_type": "code",
   "outputs": [
    {
     "name": "stdout",
     "output_type": "stream",
     "text": [
      "tensor(140., grad_fn=<MeanBackward0>)\n"
     ]
    }
   ],
   "source": [
    "print(out)"
   ],
   "metadata": {
    "collapsed": false,
    "ExecuteTime": {
     "end_time": "2024-02-07T05:35:36.243120Z",
     "start_time": "2024-02-07T05:35:36.188857Z"
    }
   },
   "id": "e8a952ad31316794",
   "execution_count": 71
  },
  {
   "cell_type": "code",
   "outputs": [],
   "source": [
    "out.backward()"
   ],
   "metadata": {
    "collapsed": false,
    "ExecuteTime": {
     "end_time": "2024-02-07T05:35:36.301670Z",
     "start_time": "2024-02-07T05:35:36.268491Z"
    }
   },
   "id": "7ec3ac86260d3124",
   "execution_count": 72
  },
  {
   "cell_type": "code",
   "outputs": [
    {
     "name": "stdout",
     "output_type": "stream",
     "text": [
      "tensor([[10., 16., 22.],\n",
      "        [22., 16., 10.]])\n"
     ]
    }
   ],
   "source": [
    "print(x.grad)"
   ],
   "metadata": {
    "collapsed": false,
    "ExecuteTime": {
     "end_time": "2024-02-07T05:35:36.335213Z",
     "start_time": "2024-02-07T05:35:36.311634Z"
    }
   },
   "id": "6502e7c5b9f187df",
   "execution_count": 73
  },
  {
   "cell_type": "code",
   "outputs": [],
   "source": [
    "import torch\n",
    "import numpy as np\n",
    "import matplotlib.pyplot as plt\n",
    "import torch.nn as nn"
   ],
   "metadata": {
    "collapsed": false,
    "ExecuteTime": {
     "end_time": "2024-02-07T05:35:36.369066Z",
     "start_time": "2024-02-07T05:35:36.337862Z"
    }
   },
   "id": "c02a8d9f1ce81f6c",
   "execution_count": 74
  },
  {
   "cell_type": "code",
   "outputs": [],
   "source": [
    "X = torch.linspace(1,50,50).reshape(-1,1)"
   ],
   "metadata": {
    "collapsed": false,
    "ExecuteTime": {
     "end_time": "2024-02-07T05:35:36.387400Z",
     "start_time": "2024-02-07T05:35:36.371643Z"
    }
   },
   "id": "6488ca0645098131",
   "execution_count": 75
  },
  {
   "cell_type": "code",
   "outputs": [
    {
     "data": {
      "text/plain": "tensor([[ 1.],\n        [ 2.],\n        [ 3.],\n        [ 4.],\n        [ 5.],\n        [ 6.],\n        [ 7.],\n        [ 8.],\n        [ 9.],\n        [10.],\n        [11.],\n        [12.],\n        [13.],\n        [14.],\n        [15.],\n        [16.],\n        [17.],\n        [18.],\n        [19.],\n        [20.],\n        [21.],\n        [22.],\n        [23.],\n        [24.],\n        [25.],\n        [26.],\n        [27.],\n        [28.],\n        [29.],\n        [30.],\n        [31.],\n        [32.],\n        [33.],\n        [34.],\n        [35.],\n        [36.],\n        [37.],\n        [38.],\n        [39.],\n        [40.],\n        [41.],\n        [42.],\n        [43.],\n        [44.],\n        [45.],\n        [46.],\n        [47.],\n        [48.],\n        [49.],\n        [50.]])"
     },
     "execution_count": 76,
     "metadata": {},
     "output_type": "execute_result"
    }
   ],
   "source": [
    "X"
   ],
   "metadata": {
    "collapsed": false,
    "ExecuteTime": {
     "end_time": "2024-02-07T05:35:36.417199Z",
     "start_time": "2024-02-07T05:35:36.389645Z"
    }
   },
   "id": "e976f3288906469a",
   "execution_count": 76
  },
  {
   "cell_type": "code",
   "outputs": [],
   "source": [
    "torch.manual_seed(71)\n",
    "e = torch.randint(-8,9,(50,1),dtype=torch.float)"
   ],
   "metadata": {
    "collapsed": false,
    "ExecuteTime": {
     "end_time": "2024-02-07T05:35:36.439041Z",
     "start_time": "2024-02-07T05:35:36.419790Z"
    }
   },
   "id": "49a3e755fb4f3bee",
   "execution_count": 77
  },
  {
   "cell_type": "code",
   "outputs": [
    {
     "data": {
      "text/plain": "tensor([[ 2.],\n        [ 7.],\n        [ 2.],\n        [ 6.],\n        [ 2.],\n        [-4.],\n        [ 2.],\n        [-5.],\n        [ 4.],\n        [ 1.],\n        [ 2.],\n        [ 3.],\n        [ 1.],\n        [-8.],\n        [ 5.],\n        [ 5.],\n        [-6.],\n        [ 0.],\n        [-7.],\n        [-8.],\n        [-3.],\n        [-1.],\n        [ 2.],\n        [-6.],\n        [-3.],\n        [ 3.],\n        [ 2.],\n        [ 3.],\n        [ 4.],\n        [ 5.],\n        [ 1.],\n        [ 7.],\n        [ 6.],\n        [-1.],\n        [-6.],\n        [-5.],\n        [-3.],\n        [ 7.],\n        [ 0.],\n        [ 8.],\n        [-1.],\n        [-2.],\n        [ 2.],\n        [-8.],\n        [-1.],\n        [ 6.],\n        [-8.],\n        [-3.],\n        [-7.],\n        [-2.]])"
     },
     "execution_count": 78,
     "metadata": {},
     "output_type": "execute_result"
    }
   ],
   "source": [
    "e"
   ],
   "metadata": {
    "collapsed": false,
    "ExecuteTime": {
     "end_time": "2024-02-07T05:35:36.474380Z",
     "start_time": "2024-02-07T05:35:36.441357Z"
    }
   },
   "id": "ec9917783a79e3d",
   "execution_count": 78
  },
  {
   "cell_type": "code",
   "outputs": [],
   "source": [
    "y = 2*X + 1 + e"
   ],
   "metadata": {
    "collapsed": false,
    "ExecuteTime": {
     "end_time": "2024-02-07T05:35:36.502657Z",
     "start_time": "2024-02-07T05:35:36.476602Z"
    }
   },
   "id": "ebf908b1fd15dfb1",
   "execution_count": 79
  },
  {
   "cell_type": "code",
   "outputs": [
    {
     "data": {
      "text/plain": "torch.Size([50, 1])"
     },
     "execution_count": 80,
     "metadata": {},
     "output_type": "execute_result"
    }
   ],
   "source": [
    "y.shape"
   ],
   "metadata": {
    "collapsed": false,
    "ExecuteTime": {
     "end_time": "2024-02-07T05:35:36.546894Z",
     "start_time": "2024-02-07T05:35:36.522815Z"
    }
   },
   "id": "3f4178fa2d272983",
   "execution_count": 80
  },
  {
   "cell_type": "code",
   "outputs": [
    {
     "data": {
      "text/plain": "<matplotlib.collections.PathCollection at 0x282c128b0>"
     },
     "execution_count": 81,
     "metadata": {},
     "output_type": "execute_result"
    },
    {
     "data": {
      "text/plain": "<Figure size 640x480 with 1 Axes>",
      "image/png": "[encoded data removed]"
     },
     "metadata": {},
     "output_type": "display_data"
    }
   ],
   "source": [
    "plt.scatter(X.numpy(),y.numpy())"
   ],
   "metadata": {
    "collapsed": false,
    "ExecuteTime": {
     "end_time": "2024-02-07T05:35:36.649715Z",
     "start_time": "2024-02-07T05:35:36.549758Z"
    }
   },
   "id": "c6d83da49f10daf3",
   "execution_count": 81
  },
  {
   "cell_type": "code",
   "outputs": [
    {
     "name": "stdout",
     "output_type": "stream",
     "text": [
      "Parameter containing:\n",
      "tensor([[0.1060]], requires_grad=True)\n",
      "Parameter containing:\n",
      "tensor([0.9638], requires_grad=True)\n"
     ]
    }
   ],
   "source": [
    "torch.manual_seed(59)\n",
    "model = nn.Linear(in_features=1, out_features=1)\n",
    "print(model.weight)\n",
    "print(model.bias)"
   ],
   "metadata": {
    "collapsed": false,
    "ExecuteTime": {
     "end_time": "2024-02-07T05:35:36.652650Z",
     "start_time": "2024-02-07T05:35:36.641693Z"
    }
   },
   "id": "6779a5194f23313c",
   "execution_count": 82
  },
  {
   "cell_type": "code",
   "outputs": [],
   "source": [
    "class Model(nn.Module):\n",
    "    \n",
    "    def __init__(self,in_features,out_features):\n",
    "        \n",
    "        super().__init__()\n",
    "        self.linear = nn.Linear(in_features,out_features)\n",
    "        \n",
    "    def forward(self,x):\n",
    "        y_pred = self.linear(x)\n",
    "        return y_pred"
   ],
   "metadata": {
    "collapsed": false,
    "ExecuteTime": {
     "end_time": "2024-02-07T05:35:36.662054Z",
     "start_time": "2024-02-07T05:35:36.646162Z"
    }
   },
   "id": "8633d314f70b9e18",
   "execution_count": 83
  },
  {
   "cell_type": "code",
   "outputs": [
    {
     "name": "stdout",
     "output_type": "stream",
     "text": [
      "Parameter containing:\n",
      "tensor([[0.1060]], requires_grad=True)\n",
      "Parameter containing:\n",
      "tensor([0.9638], requires_grad=True)\n"
     ]
    }
   ],
   "source": [
    "torch.manual_seed(59)\n",
    "model = Model(1,1)\n",
    "\n",
    "print(model.linear.weight)\n",
    "print(model.linear.bias)"
   ],
   "metadata": {
    "collapsed": false,
    "ExecuteTime": {
     "end_time": "2024-02-07T05:35:36.685713Z",
     "start_time": "2024-02-07T05:35:36.651269Z"
    }
   },
   "id": "9a006704cea45a21",
   "execution_count": 84
  },
  {
   "cell_type": "code",
   "outputs": [
    {
     "name": "stdout",
     "output_type": "stream",
     "text": [
      "linear.weight \t 0.10597813129425049\n",
      "linear.bias \t 0.9637961387634277\n"
     ]
    }
   ],
   "source": [
    "for name,param in model.named_parameters():\n",
    "    print(name, '\\t', param.item())"
   ],
   "metadata": {
    "collapsed": false,
    "ExecuteTime": {
     "end_time": "2024-02-07T05:35:36.765493Z",
     "start_time": "2024-02-07T05:35:36.735499Z"
    }
   },
   "id": "f7153109af93c8da",
   "execution_count": 85
  },
  {
   "cell_type": "code",
   "outputs": [
    {
     "name": "stdout",
     "output_type": "stream",
     "text": [
      "tensor([1.1758], grad_fn=<ViewBackward0>)\n"
     ]
    }
   ],
   "source": [
    "x = torch.tensor([2.0])\n",
    "print(model.forward(x))"
   ],
   "metadata": {
    "collapsed": false,
    "ExecuteTime": {
     "end_time": "2024-02-07T05:35:36.803885Z",
     "start_time": "2024-02-07T05:35:36.775624Z"
    }
   },
   "id": "301cd37a13ecd3dd",
   "execution_count": 86
  },
  {
   "cell_type": "code",
   "outputs": [],
   "source": [
    "x1 = np.linspace(0.0,50.0,50)"
   ],
   "metadata": {
    "collapsed": false,
    "ExecuteTime": {
     "end_time": "2024-02-07T05:35:36.842565Z",
     "start_time": "2024-02-07T05:35:36.819849Z"
    }
   },
   "id": "3989ff6f09c891fc",
   "execution_count": 87
  },
  {
   "cell_type": "code",
   "outputs": [
    {
     "data": {
      "text/plain": "array([ 0.        ,  1.02040816,  2.04081633,  3.06122449,  4.08163265,\n        5.10204082,  6.12244898,  7.14285714,  8.16326531,  9.18367347,\n       10.20408163, 11.2244898 , 12.24489796, 13.26530612, 14.28571429,\n       15.30612245, 16.32653061, 17.34693878, 18.36734694, 19.3877551 ,\n       20.40816327, 21.42857143, 22.44897959, 23.46938776, 24.48979592,\n       25.51020408, 26.53061224, 27.55102041, 28.57142857, 29.59183673,\n       30.6122449 , 31.63265306, 32.65306122, 33.67346939, 34.69387755,\n       35.71428571, 36.73469388, 37.75510204, 38.7755102 , 39.79591837,\n       40.81632653, 41.83673469, 42.85714286, 43.87755102, 44.89795918,\n       45.91836735, 46.93877551, 47.95918367, 48.97959184, 50.        ])"
     },
     "execution_count": 88,
     "metadata": {},
     "output_type": "execute_result"
    }
   ],
   "source": [
    "x1"
   ],
   "metadata": {
    "collapsed": false,
    "ExecuteTime": {
     "end_time": "2024-02-07T05:35:36.874986Z",
     "start_time": "2024-02-07T05:35:36.845614Z"
    }
   },
   "id": "7338c3c261aaa70d",
   "execution_count": 88
  },
  {
   "cell_type": "code",
   "outputs": [],
   "source": [
    "w1 = 0.1059\n",
    "b1 = 0.9637\n",
    "\n",
    "y1 = w1*x1* + b1"
   ],
   "metadata": {
    "collapsed": false,
    "ExecuteTime": {
     "end_time": "2024-02-07T05:35:36.922747Z",
     "start_time": "2024-02-07T05:35:36.877357Z"
    }
   },
   "id": "9d2b0a5da1cf0978",
   "execution_count": 89
  },
  {
   "cell_type": "code",
   "outputs": [
    {
     "data": {
      "text/plain": "array([0.        , 0.1041386 , 0.2082772 , 0.31241581, 0.41655441,\n       0.52069301, 0.62483161, 0.72897021, 0.83310882, 0.93724742,\n       1.04138602, 1.14552462, 1.24966322, 1.35380183, 1.45794043,\n       1.56207903, 1.66621763, 1.77035623, 1.87449484, 1.97863344,\n       2.08277204, 2.18691064, 2.29104924, 2.39518785, 2.49932645,\n       2.60346505, 2.70760365, 2.81174226, 2.91588086, 3.02001946,\n       3.12415806, 3.22829666, 3.33243527, 3.43657387, 3.54071247,\n       3.64485107, 3.74898967, 3.85312828, 3.95726688, 4.06140548,\n       4.16554408, 4.26968268, 4.37382129, 4.47795989, 4.58209849,\n       4.68623709, 4.79037569, 4.8945143 , 4.9986529 , 5.1027915 ])"
     },
     "execution_count": 90,
     "metadata": {},
     "output_type": "execute_result"
    }
   ],
   "source": [
    "y1"
   ],
   "metadata": {
    "collapsed": false,
    "ExecuteTime": {
     "end_time": "2024-02-07T05:35:36.952629Z",
     "start_time": "2024-02-07T05:35:36.932308Z"
    }
   },
   "id": "2a04d87c4a0a3cae",
   "execution_count": 90
  },
  {
   "cell_type": "code",
   "outputs": [
    {
     "data": {
      "text/plain": "[<matplotlib.lines.Line2D at 0x2808cd0d0>]"
     },
     "execution_count": 91,
     "metadata": {},
     "output_type": "execute_result"
    },
    {
     "data": {
      "text/plain": "<Figure size 640x480 with 1 Axes>",
      "image/png": "[encoded data removed]"
     },
     "metadata": {},
     "output_type": "display_data"
    }
   ],
   "source": [
    "plt.scatter(X.numpy(),y.numpy())\n",
    "plt.plot(x1,y1,'r')"
   ],
   "metadata": {
    "collapsed": false,
    "ExecuteTime": {
     "end_time": "2024-02-07T05:35:37.114746Z",
     "start_time": "2024-02-07T05:35:37.017965Z"
    }
   },
   "id": "4a428efac81a1a41",
   "execution_count": 91
  },
  {
   "cell_type": "code",
   "outputs": [],
   "source": [
    "criterion = nn.MSELoss()"
   ],
   "metadata": {
    "collapsed": false,
    "ExecuteTime": {
     "end_time": "2024-02-07T05:35:37.123917Z",
     "start_time": "2024-02-07T05:35:37.098671Z"
    }
   },
   "id": "20085a72765f2359",
   "execution_count": 92
  },
  {
   "cell_type": "code",
   "outputs": [],
   "source": [
    "optimizer = torch.optim.SGD(model.parameters(),lr=0.001)"
   ],
   "metadata": {
    "collapsed": false,
    "ExecuteTime": {
     "end_time": "2024-02-07T05:35:37.250332Z",
     "start_time": "2024-02-07T05:35:37.101038Z"
    }
   },
   "id": "f1886a0380e3f58a",
   "execution_count": 93
  },
  {
   "cell_type": "code",
   "outputs": [
    {
     "name": "stdout",
     "output_type": "stream",
     "text": [
      "epoch 1, loss: 3057.216796875 weight: 0.10597813129425049 bias: Parameter containing:\n",
      "tensor([0.9638], requires_grad=True)\n",
      "epoch 2, loss: 1588.5306396484375 weight: 3.334900140762329 bias: Parameter containing:\n",
      "tensor([1.0605], requires_grad=True)\n",
      "epoch 3, loss: 830.2999267578125 weight: 1.014832854270935 bias: Parameter containing:\n",
      "tensor([0.9923], requires_grad=True)\n",
      "epoch 4, loss: 438.8521728515625 weight: 2.6817994117736816 bias: Parameter containing:\n",
      "tensor([1.0425], requires_grad=True)\n",
      "epoch 5, loss: 236.76144409179688 weight: 1.4840213060379028 bias: Parameter containing:\n",
      "tensor([1.0077], requires_grad=True)\n",
      "epoch 6, loss: 132.4291229248047 weight: 2.3446059226989746 bias: Parameter containing:\n",
      "tensor([1.0340], requires_grad=True)\n",
      "epoch 7, loss: 78.56572723388672 weight: 1.7262253761291504 bias: Parameter containing:\n",
      "tensor([1.0163], requires_grad=True)\n",
      "epoch 8, loss: 50.75775909423828 weight: 2.170504093170166 bias: Parameter containing:\n",
      "tensor([1.0303], requires_grad=True)\n",
      "epoch 9, loss: 36.4012336730957 weight: 1.8512457609176636 bias: Parameter containing:\n",
      "tensor([1.0215], requires_grad=True)\n",
      "epoch 10, loss: 28.989229202270508 weight: 2.0806007385253906 bias: Parameter containing:\n",
      "tensor([1.0290], requires_grad=True)\n",
      "epoch 11, loss: 25.162382125854492 weight: 1.9157683849334717 bias: Parameter containing:\n",
      "tensor([1.0249], requires_grad=True)\n",
      "epoch 12, loss: 23.186473846435547 weight: 2.034165620803833 bias: Parameter containing:\n",
      "tensor([1.0291], requires_grad=True)\n",
      "epoch 13, loss: 22.166126251220703 weight: 1.9490584135055542 bias: Parameter containing:\n",
      "tensor([1.0273], requires_grad=True)\n",
      "epoch 14, loss: 21.639110565185547 weight: 2.010172128677368 bias: Parameter containing:\n",
      "tensor([1.0299], requires_grad=True)\n",
      "epoch 15, loss: 21.366771697998047 weight: 1.9662237167358398 bias: Parameter containing:\n",
      "tensor([1.0293], requires_grad=True)\n",
      "epoch 16, loss: 21.22591781616211 weight: 1.997764229774475 bias: Parameter containing:\n",
      "tensor([1.0309], requires_grad=True)\n",
      "epoch 17, loss: 21.15294647216797 weight: 1.9750648736953735 bias: Parameter containing:\n",
      "tensor([1.0310], requires_grad=True)\n",
      "epoch 18, loss: 21.115009307861328 weight: 1.991337537765503 bias: Parameter containing:\n",
      "tensor([1.0322], requires_grad=True)\n",
      "epoch 19, loss: 21.095176696777344 weight: 1.9796085357666016 bias: Parameter containing:\n",
      "tensor([1.0326], requires_grad=True)\n",
      "epoch 20, loss: 21.084684371948242 weight: 1.9879988431930542 bias: Parameter containing:\n",
      "tensor([1.0336], requires_grad=True)\n",
      "epoch 21, loss: 21.07901382446289 weight: 1.981933355331421 bias: Parameter containing:\n",
      "tensor([1.0341], requires_grad=True)\n",
      "epoch 22, loss: 21.075830459594727 weight: 1.9862544536590576 bias: Parameter containing:\n",
      "tensor([1.0350], requires_grad=True)\n",
      "epoch 23, loss: 21.073938369750977 weight: 1.9831126928329468 bias: Parameter containing:\n",
      "tensor([1.0356], requires_grad=True)\n",
      "epoch 24, loss: 21.07270050048828 weight: 1.9853330850601196 bias: Parameter containing:\n",
      "tensor([1.0364], requires_grad=True)\n",
      "epoch 25, loss: 21.071819305419922 weight: 1.9837009906768799 bias: Parameter containing:\n",
      "tensor([1.0371], requires_grad=True)\n",
      "epoch 26, loss: 21.07110595703125 weight: 1.9848365783691406 bias: Parameter containing:\n",
      "tensor([1.0378], requires_grad=True)\n",
      "epoch 27, loss: 21.070486068725586 weight: 1.9839837551116943 bias: Parameter containing:\n",
      "tensor([1.0385], requires_grad=True)\n",
      "epoch 28, loss: 21.069913864135742 weight: 1.9845597743988037 bias: Parameter containing:\n",
      "tensor([1.0392], requires_grad=True)\n",
      "epoch 29, loss: 21.069368362426758 weight: 1.9841090440750122 bias: Parameter containing:\n",
      "tensor([1.0400], requires_grad=True)\n",
      "epoch 30, loss: 21.068838119506836 weight: 1.9843961000442505 bias: Parameter containing:\n",
      "tensor([1.0407], requires_grad=True)\n",
      "epoch 31, loss: 21.068307876586914 weight: 1.984152913093567 bias: Parameter containing:\n",
      "tensor([1.0414], requires_grad=True)\n",
      "epoch 32, loss: 21.067781448364258 weight: 1.9842908382415771 bias: Parameter containing:\n",
      "tensor([1.0421], requires_grad=True)\n",
      "epoch 33, loss: 21.0672607421875 weight: 1.9841549396514893 bias: Parameter containing:\n",
      "tensor([1.0428], requires_grad=True)\n",
      "epoch 34, loss: 21.066740036010742 weight: 1.9842157363891602 bias: Parameter containing:\n",
      "tensor([1.0436], requires_grad=True)\n",
      "epoch 35, loss: 21.066225051879883 weight: 1.9841355085372925 bias: Parameter containing:\n",
      "tensor([1.0443], requires_grad=True)\n",
      "epoch 36, loss: 21.06570816040039 weight: 1.9841564893722534 bias: Parameter containing:\n",
      "tensor([1.0450], requires_grad=True)\n",
      "epoch 37, loss: 21.065187454223633 weight: 1.9841045141220093 bias: Parameter containing:\n",
      "tensor([1.0457], requires_grad=True)\n",
      "epoch 38, loss: 21.064668655395508 weight: 1.9841052293777466 bias: Parameter containing:\n",
      "tensor([1.0464], requires_grad=True)\n",
      "epoch 39, loss: 21.064157485961914 weight: 1.9840680360794067 bias: Parameter containing:\n",
      "tensor([1.0472], requires_grad=True)\n",
      "epoch 40, loss: 21.063636779785156 weight: 1.984058141708374 bias: Parameter containing:\n",
      "tensor([1.0479], requires_grad=True)\n",
      "epoch 41, loss: 21.063125610351562 weight: 1.984028697013855 bias: Parameter containing:\n",
      "tensor([1.0486], requires_grad=True)\n",
      "epoch 42, loss: 21.062606811523438 weight: 1.9840131998062134 bias: Parameter containing:\n",
      "tensor([1.0493], requires_grad=True)\n",
      "epoch 43, loss: 21.062095642089844 weight: 1.98398756980896 bias: Parameter containing:\n",
      "tensor([1.0500], requires_grad=True)\n",
      "epoch 44, loss: 21.06157684326172 weight: 1.9839695692062378 bias: Parameter containing:\n",
      "tensor([1.0507], requires_grad=True)\n",
      "epoch 45, loss: 21.06106948852539 weight: 1.9839458465576172 bias: Parameter containing:\n",
      "tensor([1.0515], requires_grad=True)\n",
      "epoch 46, loss: 21.06055450439453 weight: 1.9839262962341309 bias: Parameter containing:\n",
      "tensor([1.0522], requires_grad=True)\n",
      "epoch 47, loss: 21.060043334960938 weight: 1.9839037656784058 bias: Parameter containing:\n",
      "tensor([1.0529], requires_grad=True)\n",
      "epoch 48, loss: 21.059532165527344 weight: 1.9838833808898926 bias: Parameter containing:\n",
      "tensor([1.0536], requires_grad=True)\n",
      "epoch 49, loss: 21.05901336669922 weight: 1.9838614463806152 bias: Parameter containing:\n",
      "tensor([1.0543], requires_grad=True)\n",
      "epoch 50, loss: 21.058509826660156 weight: 1.9838409423828125 bias: Parameter containing:\n",
      "tensor([1.0550], requires_grad=True)\n"
     ]
    }
   ],
   "source": [
    "epochs = 50\n",
    "losses = []\n",
    "\n",
    "for i in range(epochs):\n",
    "    \n",
    "    i = i + 1\n",
    "    \n",
    "    y_pred2 = model.forward(X)\n",
    "    loss = criterion(y_pred2, y)\n",
    "    losses.append(loss.item())\n",
    "    print(f\"epoch {i}, loss: {loss.item()} weight: {model.linear.weight.item()} bias: {model.linear.bias}\")\n",
    "    \n",
    "    optimizer.zero_grad()\n",
    "    loss.backward()\n",
    "    optimizer.step()"
   ],
   "metadata": {
    "collapsed": false,
    "ExecuteTime": {
     "end_time": "2024-02-07T05:35:37.264400Z",
     "start_time": "2024-02-07T05:35:37.241278Z"
    }
   },
   "id": "901c161b4af91c4a",
   "execution_count": 94
  },
  {
   "cell_type": "code",
   "outputs": [
    {
     "data": {
      "text/plain": "Text(0.5, 0, 'Epoch ')"
     },
     "execution_count": 95,
     "metadata": {},
     "output_type": "execute_result"
    },
    {
     "data": {
      "text/plain": "<Figure size 640x480 with 1 Axes>",
      "image/png": "[encoded data removed]"
     },
     "metadata": {},
     "output_type": "display_data"
    }
   ],
   "source": [
    "plt.plot(range(epochs),losses)\n",
    "plt.ylabel('MSE LOSS')\n",
    "plt.xlabel('Epoch ')"
   ],
   "metadata": {
    "collapsed": false,
    "ExecuteTime": {
     "end_time": "2024-02-07T05:35:37.342245Z",
     "start_time": "2024-02-07T05:35:37.258220Z"
    }
   },
   "id": "259566d24857516f",
   "execution_count": 95
  },
  {
   "cell_type": "code",
   "outputs": [],
   "source": [
    "x = np.linspace(0.0,50.0,50)\n",
    "current_weight = model.linear.weight.item()\n",
    "current_bias = model.linear.bias.item()\n",
    "\n",
    "\n",
    "predicted_y = current_weight*x + current_bias"
   ],
   "metadata": {
    "collapsed": false,
    "ExecuteTime": {
     "end_time": "2024-02-07T05:35:37.345148Z",
     "start_time": "2024-02-07T05:35:37.329805Z"
    }
   },
   "id": "fb72e613434a2cf5",
   "execution_count": 96
  },
  {
   "cell_type": "code",
   "outputs": [
    {
     "data": {
      "text/plain": "array([  1.05575156,   3.08005679,   5.10436203,   7.12866726,\n         9.15297249,  11.17727772,  13.20158295,  15.22588818,\n        17.25019342,  19.27449865,  21.29880388,  23.32310911,\n        25.34741434,  27.37171957,  29.39602481,  31.42033004,\n        33.44463527,  35.4689405 ,  37.49324573,  39.51755096,\n        41.5418562 ,  43.56616143,  45.59046666,  47.61477189,\n        49.63907712,  51.66338236,  53.68768759,  55.71199282,\n        57.73629805,  59.76060328,  61.78490851,  63.80921375,\n        65.83351898,  67.85782421,  69.88212944,  71.90643467,\n        73.9307399 ,  75.95504514,  77.97935037,  80.0036556 ,\n        82.02796083,  84.05226606,  86.07657129,  88.10087653,\n        90.12518176,  92.14948699,  94.17379222,  96.19809745,\n        98.22240268, 100.24670792])"
     },
     "execution_count": 97,
     "metadata": {},
     "output_type": "execute_result"
    }
   ],
   "source": [
    "predicted_y"
   ],
   "metadata": {
    "collapsed": false,
    "ExecuteTime": {
     "end_time": "2024-02-07T05:35:37.352952Z",
     "start_time": "2024-02-07T05:35:37.332013Z"
    }
   },
   "id": "57d43bce04bb07b1",
   "execution_count": 97
  },
  {
   "cell_type": "code",
   "outputs": [
    {
     "data": {
      "text/plain": "[<matplotlib.lines.Line2D at 0x283805190>]"
     },
     "execution_count": 98,
     "metadata": {},
     "output_type": "execute_result"
    },
    {
     "data": {
      "text/plain": "<Figure size 640x480 with 1 Axes>",
      "image/png": "[encoded data removed]"
     },
     "metadata": {},
     "output_type": "display_data"
    }
   ],
   "source": [
    "plt.scatter(X.numpy(),y.numpy())\n",
    "plt.plot(x,predicted_y,'r')"
   ],
   "metadata": {
    "collapsed": false,
    "ExecuteTime": {
     "end_time": "2024-02-07T05:35:37.445833Z",
     "start_time": "2024-02-07T05:35:37.335509Z"
    }
   },
   "id": "92a0fcf205b5d116",
   "execution_count": 98
  },
  {
   "cell_type": "code",
   "outputs": [],
   "source": [
    "import pandas as pd"
   ],
   "metadata": {
    "collapsed": false,
    "ExecuteTime": {
     "end_time": "2024-02-07T05:35:37.448531Z",
     "start_time": "2024-02-07T05:35:37.414165Z"
    }
   },
   "id": "bbd5d7819b0d937a",
   "execution_count": 99
  },
  {
   "cell_type": "code",
   "outputs": [],
   "source": [
    "df = pd.read_csv(r'/Users/alexcurry/Downloads/PYTORCH_NOTEBOOKS/Data/iris.csv')"
   ],
   "metadata": {
    "collapsed": false,
    "ExecuteTime": {
     "end_time": "2024-02-07T05:35:37.456906Z",
     "start_time": "2024-02-07T05:35:37.417489Z"
    }
   },
   "id": "bc10b41ed5b6772e",
   "execution_count": 100
  },
  {
   "cell_type": "code",
   "outputs": [
    {
     "data": {
      "text/plain": "   sepal length (cm)  sepal width (cm)  petal length (cm)  petal width (cm)  \\\n0                5.1               3.5                1.4               0.2   \n1                4.9               3.0                1.4               0.2   \n2                4.7               3.2                1.3               0.2   \n3                4.6               3.1                1.5               0.2   \n4                5.0               3.6                1.4               0.2   \n\n   target  \n0     0.0  \n1     0.0  \n2     0.0  \n3     0.0  \n4     0.0  ",
      "text/html": "<div>\n<style scoped>\n    .dataframe tbody tr th:only-of-type {\n        vertical-align: middle;\n    }\n\n    .dataframe tbody tr th {\n        vertical-align: top;\n    }\n\n    .dataframe thead th {\n        text-align: right;\n    }\n</style>\n<table border=\"1\" class=\"dataframe\">\n  <thead>\n    <tr style=\"text-align: right;\">\n      <th></th>\n      <th>sepal length (cm)</th>\n      <th>sepal width (cm)</th>\n      <th>petal length (cm)</th>\n      <th>petal width (cm)</th>\n      <th>target</th>\n    </tr>\n  </thead>\n  <tbody>\n    <tr>\n      <th>0</th>\n      <td>5.1</td>\n      <td>3.5</td>\n      <td>1.4</td>\n      <td>0.2</td>\n      <td>0.0</td>\n    </tr>\n    <tr>\n      <th>1</th>\n      <td>4.9</td>\n      <td>3.0</td>\n      <td>1.4</td>\n      <td>0.2</td>\n      <td>0.0</td>\n    </tr>\n    <tr>\n      <th>2</th>\n      <td>4.7</td>\n      <td>3.2</td>\n      <td>1.3</td>\n      <td>0.2</td>\n      <td>0.0</td>\n    </tr>\n    <tr>\n      <th>3</th>\n      <td>4.6</td>\n      <td>3.1</td>\n      <td>1.5</td>\n      <td>0.2</td>\n      <td>0.0</td>\n    </tr>\n    <tr>\n      <th>4</th>\n      <td>5.0</td>\n      <td>3.6</td>\n      <td>1.4</td>\n      <td>0.2</td>\n      <td>0.0</td>\n    </tr>\n  </tbody>\n</table>\n</div>"
     },
     "execution_count": 101,
     "metadata": {},
     "output_type": "execute_result"
    }
   ],
   "source": [
    "df.head()"
   ],
   "metadata": {
    "collapsed": false,
    "ExecuteTime": {
     "end_time": "2024-02-07T05:35:37.460251Z",
     "start_time": "2024-02-07T05:35:37.421445Z"
    }
   },
   "id": "5db27f7ef7a4e5c8",
   "execution_count": 101
  },
  {
   "cell_type": "code",
   "outputs": [
    {
     "data": {
      "text/plain": "(150, 5)"
     },
     "execution_count": 102,
     "metadata": {},
     "output_type": "execute_result"
    }
   ],
   "source": [
    "df.shape"
   ],
   "metadata": {
    "collapsed": false,
    "ExecuteTime": {
     "end_time": "2024-02-07T05:35:37.468454Z",
     "start_time": "2024-02-07T05:35:37.426631Z"
    }
   },
   "id": "1818f03b5a9480f9",
   "execution_count": 102
  },
  {
   "cell_type": "code",
   "outputs": [
    {
     "data": {
      "text/plain": "<Figure size 1000x700 with 4 Axes>",
      "image/png": "[encoded data removed]"
     },
     "metadata": {},
     "output_type": "display_data"
    }
   ],
   "source": [
    "fig, axes = plt.subplots(nrows=2, ncols=2, figsize=(10,7))\n",
    "fig.tight_layout()\n",
    "\n",
    "plots = [(0,1), (2,3), (0,2), (1,3)]\n",
    "colors = ['b', 'r', 'g']\n",
    "labels = ['Iris setosa', 'Iris virginica', 'Iris versicolor']\n",
    "for i,ax in enumerate(axes.flat):\n",
    "    for j in range(3):\n",
    "        x = df.columns[plots[i][0]]\n",
    "        y = df.columns[plots[i][1]]\n",
    "        ax.scatter(df[df['target']==j][x], df[df['target']==j][y], c=colors[j])\n",
    "        ax.set(xlabel=x, ylabel=y)\n",
    "        \n",
    "fig.legend(labels=labels, loc=3, bbox_to_anchor=(1.0, 0.85))\n",
    "plt.show()"
   ],
   "metadata": {
    "collapsed": false,
    "ExecuteTime": {
     "end_time": "2024-02-07T05:35:37.778460Z",
     "start_time": "2024-02-07T05:35:37.431692Z"
    }
   },
   "id": "58cc789d3734dfca",
   "execution_count": 103
  },
  {
   "cell_type": "code",
   "outputs": [],
   "source": [
    "from sklearn.model_selection import train_test_split"
   ],
   "metadata": {
    "collapsed": false,
    "ExecuteTime": {
     "end_time": "2024-02-07T05:35:37.885951Z",
     "start_time": "2024-02-07T05:35:37.772015Z"
    }
   },
   "id": "6d24021cd6ffa83",
   "execution_count": 104
  },
  {
   "cell_type": "code",
   "outputs": [],
   "source": [
    "features = df.drop('target', axis=1).values\n",
    "label = df['target'].values"
   ],
   "metadata": {
    "collapsed": false,
    "ExecuteTime": {
     "end_time": "2024-02-07T05:35:37.888661Z",
     "start_time": "2024-02-07T05:35:37.851217Z"
    }
   },
   "id": "faa2d31cf415e38c",
   "execution_count": 105
  },
  {
   "cell_type": "code",
   "outputs": [],
   "source": [
    "X_train, X_test, y_train, y_test = train_test_split(features,label, test_size=0.2, random_state=33)\n"
   ],
   "metadata": {
    "collapsed": false,
    "ExecuteTime": {
     "end_time": "2024-02-07T05:35:37.898970Z",
     "start_time": "2024-02-07T05:35:37.853865Z"
    }
   },
   "id": "1d1394393635ac24",
   "execution_count": 106
  },
  {
   "cell_type": "code",
   "outputs": [],
   "source": [
    "X_train = torch.FloatTensor(X_train)\n",
    "X_test = torch.FloatTensor(X_test)"
   ],
   "metadata": {
    "collapsed": false,
    "ExecuteTime": {
     "end_time": "2024-02-07T05:35:37.901587Z",
     "start_time": "2024-02-07T05:35:37.855741Z"
    }
   },
   "id": "3d0e12ef0aacc9a2",
   "execution_count": 107
  },
  {
   "cell_type": "code",
   "outputs": [],
   "source": [
    "y_train = torch.LongTensor(y_train).reshape(-1,1)\n",
    "y_test = torch.LongTensor(y_test).reshape(-1,1)"
   ],
   "metadata": {
    "collapsed": false,
    "ExecuteTime": {
     "end_time": "2024-02-07T05:35:37.914172Z",
     "start_time": "2024-02-07T05:35:37.858172Z"
    }
   },
   "id": "ee5864fbaef567db",
   "execution_count": 108
  },
  {
   "cell_type": "code",
   "outputs": [],
   "source": [
    "from torch.utils.data import TensorDataset, DataLoader"
   ],
   "metadata": {
    "collapsed": false,
    "ExecuteTime": {
     "end_time": "2024-02-07T05:35:37.916699Z",
     "start_time": "2024-02-07T05:35:37.860477Z"
    }
   },
   "id": "ae8351bdeb37f177",
   "execution_count": 109
  },
  {
   "cell_type": "code",
   "outputs": [],
   "source": [
    "data = df.drop('target', axis=1).values\n",
    "labels = df['target'].values"
   ],
   "metadata": {
    "collapsed": false,
    "ExecuteTime": {
     "end_time": "2024-02-07T05:35:37.929881Z",
     "start_time": "2024-02-07T05:35:37.862980Z"
    }
   },
   "id": "6565864fc20ec623",
   "execution_count": 110
  },
  {
   "cell_type": "code",
   "outputs": [],
   "source": [
    "iris = TensorDataset(torch.FloatTensor(data), torch.LongTensor(labels))"
   ],
   "metadata": {
    "collapsed": false,
    "ExecuteTime": {
     "end_time": "2024-02-07T05:35:37.939432Z",
     "start_time": "2024-02-07T05:35:37.865149Z"
    }
   },
   "id": "3e102766fc8c0c94",
   "execution_count": 111
  },
  {
   "cell_type": "code",
   "outputs": [
    {
     "data": {
      "text/plain": "torch.utils.data.dataset.TensorDataset"
     },
     "execution_count": 112,
     "metadata": {},
     "output_type": "execute_result"
    }
   ],
   "source": [
    "type(iris)"
   ],
   "metadata": {
    "collapsed": false,
    "ExecuteTime": {
     "end_time": "2024-02-07T05:35:37.942309Z",
     "start_time": "2024-02-07T05:35:37.868710Z"
    }
   },
   "id": "458ecd0028a9e87b",
   "execution_count": 112
  },
  {
   "cell_type": "code",
   "outputs": [],
   "source": [
    "iris_loader = DataLoader(iris,batch_size=50,shuffle=True)"
   ],
   "metadata": {
    "collapsed": false,
    "ExecuteTime": {
     "end_time": "2024-02-07T05:35:37.976467Z",
     "start_time": "2024-02-07T05:35:37.870849Z"
    }
   },
   "id": "f329aac9a5c90daa",
   "execution_count": 113
  },
  {
   "cell_type": "code",
   "outputs": [
    {
     "name": "stdout",
     "output_type": "stream",
     "text": [
      "0 [tensor([[5.1000, 3.8000, 1.9000, 0.4000],\n",
      "        [5.0000, 3.5000, 1.3000, 0.3000],\n",
      "        [6.7000, 2.5000, 5.8000, 1.8000],\n",
      "        [6.9000, 3.1000, 5.4000, 2.1000],\n",
      "        [6.8000, 2.8000, 4.8000, 1.4000],\n",
      "        [5.0000, 3.6000, 1.4000, 0.2000],\n",
      "        [5.4000, 3.0000, 4.5000, 1.5000],\n",
      "        [5.8000, 2.7000, 4.1000, 1.0000],\n",
      "        [6.6000, 3.0000, 4.4000, 1.4000],\n",
      "        [7.7000, 2.6000, 6.9000, 2.3000],\n",
      "        [5.7000, 3.8000, 1.7000, 0.3000],\n",
      "        [5.4000, 3.4000, 1.5000, 0.4000],\n",
      "        [6.5000, 3.0000, 5.8000, 2.2000],\n",
      "        [6.1000, 2.9000, 4.7000, 1.4000],\n",
      "        [6.5000, 2.8000, 4.6000, 1.5000],\n",
      "        [5.1000, 3.8000, 1.6000, 0.2000],\n",
      "        [5.6000, 3.0000, 4.5000, 1.5000],\n",
      "        [5.5000, 4.2000, 1.4000, 0.2000],\n",
      "        [5.8000, 2.7000, 5.1000, 1.9000],\n",
      "        [6.0000, 3.0000, 4.8000, 1.8000],\n",
      "        [6.4000, 3.1000, 5.5000, 1.8000],\n",
      "        [4.9000, 3.1000, 1.5000, 0.1000],\n",
      "        [4.9000, 3.1000, 1.5000, 0.1000],\n",
      "        [6.2000, 2.9000, 4.3000, 1.3000],\n",
      "        [5.1000, 3.3000, 1.7000, 0.5000],\n",
      "        [4.4000, 3.0000, 1.3000, 0.2000],\n",
      "        [5.8000, 4.0000, 1.2000, 0.2000],\n",
      "        [6.2000, 2.8000, 4.8000, 1.8000],\n",
      "        [5.7000, 2.5000, 5.0000, 2.0000],\n",
      "        [5.6000, 2.7000, 4.2000, 1.3000],\n",
      "        [6.3000, 2.7000, 4.9000, 1.8000],\n",
      "        [5.1000, 3.4000, 1.5000, 0.2000],\n",
      "        [7.7000, 3.0000, 6.1000, 2.3000],\n",
      "        [6.1000, 2.6000, 5.6000, 1.4000],\n",
      "        [4.8000, 3.1000, 1.6000, 0.2000],\n",
      "        [6.3000, 2.8000, 5.1000, 1.5000],\n",
      "        [6.2000, 3.4000, 5.4000, 2.3000],\n",
      "        [5.8000, 2.7000, 5.1000, 1.9000],\n",
      "        [6.3000, 2.3000, 4.4000, 1.3000],\n",
      "        [6.0000, 2.2000, 5.0000, 1.5000],\n",
      "        [4.6000, 3.2000, 1.4000, 0.2000],\n",
      "        [5.8000, 2.6000, 4.0000, 1.2000],\n",
      "        [7.2000, 3.6000, 6.1000, 2.5000],\n",
      "        [5.7000, 2.8000, 4.5000, 1.3000],\n",
      "        [5.7000, 2.9000, 4.2000, 1.3000],\n",
      "        [6.4000, 2.9000, 4.3000, 1.3000],\n",
      "        [5.7000, 2.8000, 4.1000, 1.3000],\n",
      "        [7.4000, 2.8000, 6.1000, 1.9000],\n",
      "        [5.4000, 3.7000, 1.5000, 0.2000],\n",
      "        [5.0000, 2.0000, 3.5000, 1.0000]]), tensor([0, 0, 2, 2, 1, 0, 1, 1, 1, 2, 0, 0, 2, 1, 1, 0, 1, 0, 2, 2, 2, 0, 0, 1,\n",
      "        0, 0, 0, 2, 2, 1, 2, 0, 2, 2, 0, 2, 2, 2, 1, 2, 0, 1, 2, 1, 1, 1, 1, 2,\n",
      "        0, 1])]\n",
      "1 [tensor([[4.6000, 3.4000, 1.4000, 0.3000],\n",
      "        [6.8000, 3.0000, 5.5000, 2.1000],\n",
      "        [6.4000, 2.8000, 5.6000, 2.2000],\n",
      "        [5.2000, 4.1000, 1.5000, 0.1000],\n",
      "        [4.9000, 2.4000, 3.3000, 1.0000],\n",
      "        [4.6000, 3.6000, 1.0000, 0.2000],\n",
      "        [4.8000, 3.4000, 1.6000, 0.2000],\n",
      "        [6.8000, 3.2000, 5.9000, 2.3000],\n",
      "        [5.2000, 3.4000, 1.4000, 0.2000],\n",
      "        [6.5000, 3.2000, 5.1000, 2.0000],\n",
      "        [6.3000, 2.5000, 5.0000, 1.9000],\n",
      "        [7.2000, 3.0000, 5.8000, 1.6000],\n",
      "        [4.4000, 3.2000, 1.3000, 0.2000],\n",
      "        [6.7000, 3.1000, 4.4000, 1.4000],\n",
      "        [5.9000, 3.0000, 5.1000, 1.8000],\n",
      "        [6.9000, 3.1000, 5.1000, 2.3000],\n",
      "        [5.7000, 3.0000, 4.2000, 1.2000],\n",
      "        [6.3000, 3.3000, 4.7000, 1.6000],\n",
      "        [5.4000, 3.4000, 1.7000, 0.2000],\n",
      "        [5.5000, 2.4000, 3.7000, 1.0000],\n",
      "        [5.5000, 2.4000, 3.8000, 1.1000],\n",
      "        [4.9000, 3.0000, 1.4000, 0.2000],\n",
      "        [5.6000, 2.8000, 4.9000, 2.0000],\n",
      "        [6.4000, 3.2000, 4.5000, 1.5000],\n",
      "        [5.0000, 3.4000, 1.5000, 0.2000],\n",
      "        [4.6000, 3.1000, 1.5000, 0.2000],\n",
      "        [5.0000, 3.0000, 1.6000, 0.2000],\n",
      "        [5.0000, 3.4000, 1.6000, 0.4000],\n",
      "        [5.0000, 3.2000, 1.2000, 0.2000],\n",
      "        [4.9000, 2.5000, 4.5000, 1.7000],\n",
      "        [6.0000, 3.4000, 4.5000, 1.6000],\n",
      "        [5.6000, 3.0000, 4.1000, 1.3000],\n",
      "        [7.0000, 3.2000, 4.7000, 1.4000],\n",
      "        [6.7000, 3.3000, 5.7000, 2.5000],\n",
      "        [5.5000, 2.5000, 4.0000, 1.3000],\n",
      "        [5.2000, 2.7000, 3.9000, 1.4000],\n",
      "        [5.9000, 3.0000, 4.2000, 1.5000],\n",
      "        [6.0000, 2.9000, 4.5000, 1.5000],\n",
      "        [7.9000, 3.8000, 6.4000, 2.0000],\n",
      "        [6.3000, 2.5000, 4.9000, 1.5000],\n",
      "        [7.6000, 3.0000, 6.6000, 2.1000],\n",
      "        [6.7000, 3.3000, 5.7000, 2.1000],\n",
      "        [7.2000, 3.2000, 6.0000, 1.8000],\n",
      "        [6.0000, 2.7000, 5.1000, 1.6000],\n",
      "        [4.8000, 3.0000, 1.4000, 0.3000],\n",
      "        [5.3000, 3.7000, 1.5000, 0.2000],\n",
      "        [4.7000, 3.2000, 1.6000, 0.2000],\n",
      "        [4.3000, 3.0000, 1.1000, 0.1000],\n",
      "        [6.5000, 3.0000, 5.2000, 2.0000],\n",
      "        [5.2000, 3.5000, 1.5000, 0.2000]]), tensor([0, 2, 2, 0, 1, 0, 0, 2, 0, 2, 2, 2, 0, 1, 2, 2, 1, 1, 0, 1, 1, 0, 2, 1,\n",
      "        0, 0, 0, 0, 0, 2, 1, 1, 1, 2, 1, 1, 1, 1, 2, 1, 2, 2, 2, 1, 0, 0, 0, 0,\n",
      "        2, 0])]\n",
      "2 [tensor([[5.6000, 2.5000, 3.9000, 1.1000],\n",
      "        [7.1000, 3.0000, 5.9000, 2.1000],\n",
      "        [6.1000, 2.8000, 4.0000, 1.3000],\n",
      "        [4.5000, 2.3000, 1.3000, 0.3000],\n",
      "        [5.9000, 3.2000, 4.8000, 1.8000],\n",
      "        [5.1000, 3.5000, 1.4000, 0.2000],\n",
      "        [7.7000, 2.8000, 6.7000, 2.0000],\n",
      "        [6.1000, 3.0000, 4.9000, 1.8000],\n",
      "        [5.6000, 2.9000, 3.6000, 1.3000],\n",
      "        [5.1000, 3.8000, 1.5000, 0.3000],\n",
      "        [5.7000, 2.6000, 3.5000, 1.0000],\n",
      "        [6.1000, 2.8000, 4.7000, 1.2000],\n",
      "        [5.8000, 2.8000, 5.1000, 2.4000],\n",
      "        [5.5000, 2.3000, 4.0000, 1.3000],\n",
      "        [6.7000, 3.1000, 5.6000, 2.4000],\n",
      "        [6.3000, 3.4000, 5.6000, 2.4000],\n",
      "        [5.1000, 3.5000, 1.4000, 0.3000],\n",
      "        [7.3000, 2.9000, 6.3000, 1.8000],\n",
      "        [6.4000, 3.2000, 5.3000, 2.3000],\n",
      "        [6.2000, 2.2000, 4.5000, 1.5000],\n",
      "        [5.4000, 3.9000, 1.3000, 0.4000],\n",
      "        [5.5000, 3.5000, 1.3000, 0.2000],\n",
      "        [5.5000, 2.6000, 4.4000, 1.2000],\n",
      "        [6.3000, 2.9000, 5.6000, 1.8000],\n",
      "        [5.0000, 3.5000, 1.6000, 0.6000],\n",
      "        [6.9000, 3.2000, 5.7000, 2.3000],\n",
      "        [6.0000, 2.2000, 4.0000, 1.0000],\n",
      "        [4.4000, 2.9000, 1.4000, 0.2000],\n",
      "        [4.9000, 3.1000, 1.5000, 0.1000],\n",
      "        [5.8000, 2.7000, 3.9000, 1.2000],\n",
      "        [4.8000, 3.0000, 1.4000, 0.1000],\n",
      "        [6.6000, 2.9000, 4.6000, 1.3000],\n",
      "        [5.0000, 2.3000, 3.3000, 1.0000],\n",
      "        [4.7000, 3.2000, 1.3000, 0.2000],\n",
      "        [6.4000, 2.7000, 5.3000, 1.9000],\n",
      "        [6.5000, 3.0000, 5.5000, 1.8000],\n",
      "        [6.4000, 2.8000, 5.6000, 2.1000],\n",
      "        [5.1000, 2.5000, 3.0000, 1.1000],\n",
      "        [6.3000, 3.3000, 6.0000, 2.5000],\n",
      "        [4.8000, 3.4000, 1.9000, 0.2000],\n",
      "        [5.7000, 4.4000, 1.5000, 0.4000],\n",
      "        [6.7000, 3.1000, 4.7000, 1.5000],\n",
      "        [6.1000, 3.0000, 4.6000, 1.4000],\n",
      "        [7.7000, 3.8000, 6.7000, 2.2000],\n",
      "        [6.7000, 3.0000, 5.0000, 1.7000],\n",
      "        [5.4000, 3.9000, 1.7000, 0.4000],\n",
      "        [6.7000, 3.0000, 5.2000, 2.3000],\n",
      "        [5.0000, 3.3000, 1.4000, 0.2000],\n",
      "        [6.9000, 3.1000, 4.9000, 1.5000],\n",
      "        [5.1000, 3.7000, 1.5000, 0.4000]]), tensor([1, 2, 1, 0, 1, 0, 2, 2, 1, 0, 1, 1, 2, 1, 2, 2, 0, 2, 2, 1, 0, 0, 1, 2,\n",
      "        0, 2, 1, 0, 0, 1, 0, 1, 1, 0, 2, 2, 2, 1, 2, 0, 0, 1, 1, 2, 1, 0, 2, 0,\n",
      "        1, 0])]\n"
     ]
    }
   ],
   "source": [
    "for i_batch,sample_batch in enumerate(iris_loader):\n",
    "    print(i_batch,sample_batch)"
   ],
   "metadata": {
    "collapsed": false,
    "ExecuteTime": {
     "end_time": "2024-02-07T05:35:37.979321Z",
     "start_time": "2024-02-07T05:35:37.872964Z"
    }
   },
   "id": "4bc429e534745c5",
   "execution_count": 114
  },
  {
   "cell_type": "code",
   "outputs": [],
   "source": [
    "import torch.nn.functional as F"
   ],
   "metadata": {
    "collapsed": false,
    "ExecuteTime": {
     "end_time": "2024-02-07T05:35:37.981924Z",
     "start_time": "2024-02-07T05:35:37.878330Z"
    }
   },
   "id": "74e1f4181d8d23a8",
   "execution_count": 115
  },
  {
   "cell_type": "code",
   "outputs": [],
   "source": [
    "class Model(nn.Module):\n",
    "    \n",
    "    def __init__(self,in_features=4,h1=8,h2=9,out_features=3):\n",
    "        super().__init__()\n",
    "        self.fc1 = nn.Linear(in_features,h1)\n",
    "        self.fc2 = nn.Linear(h1,h2)\n",
    "        self.out = nn.Linear(h2,out_features)\n",
    "    \n",
    "    \n",
    "    def forward(self):\n",
    "        x = F.relu(self.fc1(x))\n",
    "        x = F.relu(self.fc2(x))\n",
    "        x = self.out(x)\n",
    "        \n",
    "        return x\n",
    "         "
   ],
   "metadata": {
    "collapsed": false,
    "ExecuteTime": {
     "end_time": "2024-02-07T05:35:37.992223Z",
     "start_time": "2024-02-07T05:35:37.880909Z"
    }
   },
   "id": "bc90a92747a9aabb",
   "execution_count": 116
  },
  {
   "cell_type": "code",
   "outputs": [],
   "source": [
    "torch.manual_seed(32)\n",
    "model = Model()"
   ],
   "metadata": {
    "collapsed": false,
    "ExecuteTime": {
     "end_time": "2024-02-07T05:35:37.994904Z",
     "start_time": "2024-02-07T05:35:37.883119Z"
    }
   },
   "id": "1d562655d5e881ed",
   "execution_count": 117
  },
  {
   "cell_type": "code",
   "outputs": [
    {
     "data": {
      "text/plain": "     sepal length (cm)  sepal width (cm)  petal length (cm)  petal width (cm)  \\\n0                  5.1               3.5                1.4               0.2   \n1                  4.9               3.0                1.4               0.2   \n2                  4.7               3.2                1.3               0.2   \n3                  4.6               3.1                1.5               0.2   \n4                  5.0               3.6                1.4               0.2   \n..                 ...               ...                ...               ...   \n145                6.7               3.0                5.2               2.3   \n146                6.3               2.5                5.0               1.9   \n147                6.5               3.0                5.2               2.0   \n148                6.2               3.4                5.4               2.3   \n149                5.9               3.0                5.1               1.8   \n\n     target  \n0       0.0  \n1       0.0  \n2       0.0  \n3       0.0  \n4       0.0  \n..      ...  \n145     2.0  \n146     2.0  \n147     2.0  \n148     2.0  \n149     2.0  \n\n[150 rows x 5 columns]",
      "text/html": "<div>\n<style scoped>\n    .dataframe tbody tr th:only-of-type {\n        vertical-align: middle;\n    }\n\n    .dataframe tbody tr th {\n        vertical-align: top;\n    }\n\n    .dataframe thead th {\n        text-align: right;\n    }\n</style>\n<table border=\"1\" class=\"dataframe\">\n  <thead>\n    <tr style=\"text-align: right;\">\n      <th></th>\n      <th>sepal length (cm)</th>\n      <th>sepal width (cm)</th>\n      <th>petal length (cm)</th>\n      <th>petal width (cm)</th>\n      <th>target</th>\n    </tr>\n  </thead>\n  <tbody>\n    <tr>\n      <th>0</th>\n      <td>5.1</td>\n      <td>3.5</td>\n      <td>1.4</td>\n      <td>0.2</td>\n      <td>0.0</td>\n    </tr>\n    <tr>\n      <th>1</th>\n      <td>4.9</td>\n      <td>3.0</td>\n      <td>1.4</td>\n      <td>0.2</td>\n      <td>0.0</td>\n    </tr>\n    <tr>\n      <th>2</th>\n      <td>4.7</td>\n      <td>3.2</td>\n      <td>1.3</td>\n      <td>0.2</td>\n      <td>0.0</td>\n    </tr>\n    <tr>\n      <th>3</th>\n      <td>4.6</td>\n      <td>3.1</td>\n      <td>1.5</td>\n      <td>0.2</td>\n      <td>0.0</td>\n    </tr>\n    <tr>\n      <th>4</th>\n      <td>5.0</td>\n      <td>3.6</td>\n      <td>1.4</td>\n      <td>0.2</td>\n      <td>0.0</td>\n    </tr>\n    <tr>\n      <th>...</th>\n      <td>...</td>\n      <td>...</td>\n      <td>...</td>\n      <td>...</td>\n      <td>...</td>\n    </tr>\n    <tr>\n      <th>145</th>\n      <td>6.7</td>\n      <td>3.0</td>\n      <td>5.2</td>\n      <td>2.3</td>\n      <td>2.0</td>\n    </tr>\n    <tr>\n      <th>146</th>\n      <td>6.3</td>\n      <td>2.5</td>\n      <td>5.0</td>\n      <td>1.9</td>\n      <td>2.0</td>\n    </tr>\n    <tr>\n      <th>147</th>\n      <td>6.5</td>\n      <td>3.0</td>\n      <td>5.2</td>\n      <td>2.0</td>\n      <td>2.0</td>\n    </tr>\n    <tr>\n      <th>148</th>\n      <td>6.2</td>\n      <td>3.4</td>\n      <td>5.4</td>\n      <td>2.3</td>\n      <td>2.0</td>\n    </tr>\n    <tr>\n      <th>149</th>\n      <td>5.9</td>\n      <td>3.0</td>\n      <td>5.1</td>\n      <td>1.8</td>\n      <td>2.0</td>\n    </tr>\n  </tbody>\n</table>\n<p>150 rows × 5 columns</p>\n</div>"
     },
     "execution_count": 118,
     "metadata": {},
     "output_type": "execute_result"
    }
   ],
   "source": [
    "df"
   ],
   "metadata": {
    "collapsed": false,
    "ExecuteTime": {
     "end_time": "2024-02-07T05:35:38.021356Z",
     "start_time": "2024-02-07T05:35:37.887325Z"
    }
   },
   "id": "5405233ed8e1c555",
   "execution_count": 118
  },
  {
   "cell_type": "code",
   "outputs": [],
   "source": [
    "X = df.drop('target',axis=1)\n",
    "y = df['target']"
   ],
   "metadata": {
    "collapsed": false,
    "ExecuteTime": {
     "end_time": "2024-02-07T05:35:38.167489Z",
     "start_time": "2024-02-07T05:35:38.116354Z"
    }
   },
   "id": "cb58a1af85350c2e",
   "execution_count": 119
  },
  {
   "cell_type": "code",
   "outputs": [],
   "source": [
    "X = X.values\n",
    "y = y.values"
   ],
   "metadata": {
    "collapsed": false,
    "ExecuteTime": {
     "end_time": "2024-02-07T05:35:38.242628Z",
     "start_time": "2024-02-07T05:35:38.213042Z"
    }
   },
   "id": "11f044e307ffb665",
   "execution_count": 120
  },
  {
   "cell_type": "code",
   "outputs": [],
   "source": [
    "X_train, X_test, y_train, y_test = train_test_split(features,label, test_size=0.2, random_state=33)\n"
   ],
   "metadata": {
    "collapsed": false,
    "ExecuteTime": {
     "end_time": "2024-02-07T05:35:38.283775Z",
     "start_time": "2024-02-07T05:35:38.263800Z"
    }
   },
   "id": "2250b15ca4701ec",
   "execution_count": 121
  },
  {
   "cell_type": "code",
   "outputs": [],
   "source": [
    "X_train = torch.FloatTensor(X_train)\n",
    "X_test = torch.FloatTensor(X_test)\n"
   ],
   "metadata": {
    "collapsed": false,
    "ExecuteTime": {
     "end_time": "2024-02-07T05:36:08.317900Z",
     "start_time": "2024-02-07T05:36:08.279182Z"
    }
   },
   "id": "b093cc30f9d395dd",
   "execution_count": 124
  },
  {
   "cell_type": "code",
   "outputs": [],
   "source": [
    "y_train = torch.LongTensor(y_train)"
   ],
   "metadata": {
    "collapsed": false,
    "ExecuteTime": {
     "end_time": "2024-02-07T05:36:17.624137Z",
     "start_time": "2024-02-07T05:36:17.574435Z"
    }
   },
   "id": "27102d5597ae50ba",
   "execution_count": 125
  },
  {
   "cell_type": "code",
   "outputs": [],
   "source": [
    "y_test = torch.LongTensor(y_test)"
   ],
   "metadata": {
    "collapsed": false,
    "ExecuteTime": {
     "end_time": "2024-02-07T05:36:26.877010Z",
     "start_time": "2024-02-07T05:36:26.824483Z"
    }
   },
   "id": "4437a72719f00702",
   "execution_count": 127
  },
  {
   "cell_type": "code",
   "outputs": [],
   "source": [
    "criterion = nn.CrossEntropyLoss()\n",
    "optimizer = torch.optim.Adam(model.parameters(),lr=0.01)"
   ],
   "metadata": {
    "collapsed": false,
    "ExecuteTime": {
     "end_time": "2024-02-07T05:36:26.989041Z",
     "start_time": "2024-02-07T05:36:26.957247Z"
    }
   },
   "id": "d4299541d5b601c2",
   "execution_count": 128
  },
  {
   "cell_type": "code",
   "outputs": [
    {
     "ename": "TypeError",
     "evalue": "forward() takes 1 positional argument but 2 were given",
     "output_type": "error",
     "traceback": [
      "\u001B[0;31m---------------------------------------------------------------------------\u001B[0m",
      "\u001B[0;31mTypeError\u001B[0m                                 Traceback (most recent call last)",
      "Cell \u001B[0;32mIn[134], line 6\u001B[0m\n\u001B[1;32m      2\u001B[0m losses \u001B[38;5;241m=\u001B[39m []\n\u001B[1;32m      4\u001B[0m \u001B[38;5;28;01mfor\u001B[39;00m i \u001B[38;5;129;01min\u001B[39;00m \u001B[38;5;28mrange\u001B[39m(epochs):\n\u001B[0;32m----> 6\u001B[0m     y_pred \u001B[38;5;241m=\u001B[39m \u001B[43mmodel\u001B[49m\u001B[38;5;241;43m.\u001B[39;49m\u001B[43mforward\u001B[49m\u001B[43m(\u001B[49m\u001B[43mX_train\u001B[49m\u001B[43m)\u001B[49m\n\u001B[1;32m      7\u001B[0m     loss \u001B[38;5;241m=\u001B[39m criterion(y_pred, y_train)\n\u001B[1;32m      8\u001B[0m     losses\u001B[38;5;241m.\u001B[39mappend(loss)\n",
      "\u001B[0;31mTypeError\u001B[0m: forward() takes 1 positional argument but 2 were given"
     ]
    }
   ],
   "source": [
    "epochs = 100\n",
    "losses = []\n",
    "\n",
    "for i in range(epochs):\n",
    "    \n",
    "    y_pred = model.forward(X_train)\n",
    "    loss = criterion(y_pred, y_train)\n",
    "    losses.append(loss)\n",
    "    if i%10==0:\n",
    "        print(f'Epoch {i}: Loss {loss}')\n",
    "        \n",
    "    optimizer.zero_grad()\n",
    "    loss.backward()\n",
    "    optimizer.step()"
   ],
   "metadata": {
    "collapsed": false,
    "ExecuteTime": {
     "end_time": "2024-02-07T05:39:20.620953Z",
     "start_time": "2024-02-07T05:39:20.584536Z"
    }
   },
   "id": "78c228452dbcb40d",
   "execution_count": 134
  },
  {
   "cell_type": "code",
   "outputs": [],
   "source": [],
   "metadata": {
    "collapsed": false,
    "ExecuteTime": {
     "end_time": "2024-02-07T05:36:27.318985Z",
     "start_time": "2024-02-07T05:36:27.286823Z"
    }
   },
   "id": "bb538d6dbd954c66",
   "execution_count": 129
  },
  {
   "cell_type": "code",
   "outputs": [],
   "source": [],
   "metadata": {
    "collapsed": false,
    "ExecuteTime": {
     "end_time": "2024-02-07T05:36:27.474060Z",
     "start_time": "2024-02-07T05:36:27.427634Z"
    }
   },
   "id": "77c587889e827a52",
   "execution_count": 129
  },
  {
   "cell_type": "code",
   "outputs": [],
   "source": [],
   "metadata": {
    "collapsed": false
   },
   "id": "f28566bba0ec6bec"
  }
 ],
 "metadata": {
  "kernelspec": {
   "display_name": "Python 3",
   "language": "python",
   "name": "python3"
  },
  "language_info": {
   "codemirror_mode": {
    "name": "ipython",
    "version": 2
   },
   "file_extension": ".py",
   "mimetype": "text/x-python",
   "name": "python",
   "nbconvert_exporter": "python",
   "pygments_lexer": "ipython2",
   "version": "2.7.6"
  }
 },
 "nbformat": 4,
 "nbformat_minor": 5
}
